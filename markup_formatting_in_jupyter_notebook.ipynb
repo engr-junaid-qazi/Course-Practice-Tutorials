{
 "cells": [
  {
   "cell_type": "markdown",
   "metadata": {},
   "source": [
    "# PRACTICING JUPYTER NOTEBOOK"
   ]
  },
  {
   "cell_type": "markdown",
   "metadata": {},
   "source": [
    "## LEARN FORMATING "
   ]
  },
  {
   "cell_type": "markdown",
   "metadata": {},
   "source": [
    "### MY INTRODUCTION"
   ]
  },
  {
   "cell_type": "markdown",
   "metadata": {},
   "source": [
    "**1. NAME:** HAFIZ JUNAID JAHANGIR QAZI \n",
    "\n",
    "**2. FATHER'S NAME:** QAZI MUHAMMAD JAHANGIR  \n",
    "\n",
    "**3. AGE:** 36 YEARS\n",
    "\n",
    "**4. CNIC #:** 42201-9431598-9 \n",
    "\n",
    "**5. COURSE ENROLLED:** ARTIFICIAL INTELLIGENCE \n",
    "\n",
    "**6. BATCH:** AI-BATCH 3\n",
    "\n",
    "**7. ID NO.:** AI - 49551\n",
    "\n"
   ]
  },
  {
   "cell_type": "code",
   "execution_count": 12,
   "metadata": {},
   "outputs": [
    {
     "data": {
      "text/plain": [
       "False"
      ]
     },
     "execution_count": 12,
     "metadata": {},
     "output_type": "execute_result"
    }
   ],
   "source": [
    "name = 'Rasheed' \n",
    "name == message"
   ]
  },
  {
   "cell_type": "code",
   "execution_count": 7,
   "metadata": {},
   "outputs": [
    {
     "data": {
      "text/plain": [
       "(str, 56459184)"
      ]
     },
     "execution_count": 7,
     "metadata": {},
     "output_type": "execute_result"
    }
   ],
   "source": [
    "message = \"My Name is Junaid\" \n",
    "type(message), id(message)"
   ]
  },
  {
   "cell_type": "code",
   "execution_count": 9,
   "metadata": {},
   "outputs": [
    {
     "data": {
      "text/plain": [
       "(int, 1457292832)"
      ]
     },
     "execution_count": 9,
     "metadata": {},
     "output_type": "execute_result"
    }
   ],
   "source": [
    "age = 24\n",
    "type(age), id(age)"
   ]
  },
  {
   "cell_type": "code",
   "execution_count": 11,
   "metadata": {},
   "outputs": [
    {
     "data": {
      "text/plain": [
       "'Junaid Qazi'"
      ]
     },
     "execution_count": 11,
     "metadata": {},
     "output_type": "execute_result"
    }
   ],
   "source": [
    "first_name = 'Junaid' \n",
    "last_name = 'Qazi'\n",
    "first_name+ \" \" +last_name"
   ]
  },
  {
   "cell_type": "markdown",
   "metadata": {},
   "source": [
    "**1. Name:** Hafiz Junaid Jahangir Qazi \n",
    "\n",
    "**2. Father's Name:** Qazi Muhammad Jahangir \n",
    "\n",
    "**3. Age:** 36 Years\n",
    "\n",
    "**4. Qualification:** B.E. Electronics Engineering \n",
    "\n",
    "**5. University:** Dawood University of Engineering & Technology \n",
    "\n",
    "\n",
    "* Name: Hafiz Junaid Jahangir Qazi\n",
    "\n",
    "* Father's Name: Qazi Muhammad Jahangir \n",
    "\n",
    "* Age: 36 Years\n",
    "\n",
    "* Qualification: B.E. Electronics Engineering' \n",
    "\n",
    "* University: Dawood University of Engineering & Technology'"
   ]
  },
  {
   "cell_type": "code",
   "execution_count": null,
   "metadata": {},
   "outputs": [],
   "source": []
  }
 ],
 "metadata": {
  "kernelspec": {
   "display_name": "Python 3",
   "language": "python",
   "name": "python3"
  },
  "language_info": {
   "codemirror_mode": {
    "name": "ipython",
    "version": 3
   },
   "file_extension": ".py",
   "mimetype": "text/x-python",
   "name": "python",
   "nbconvert_exporter": "python",
   "pygments_lexer": "ipython3",
   "version": "3.8.3"
  }
 },
 "nbformat": 4,
 "nbformat_minor": 4
}
