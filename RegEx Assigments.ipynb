{
 "cells": [
  {
   "cell_type": "code",
   "execution_count": null,
   "id": "2282c534",
   "metadata": {},
   "outputs": [],
   "source": [
    "import re\n",
    "# Loading the Data from File\n",
    "with open(\"wchat.txt\") as file: \n",
    "    fdata = file.read()\n",
    "print(fdata, end=\"\")"
   ]
  },
  {
   "cell_type": "code",
   "execution_count": null,
   "id": "83a7b957",
   "metadata": {},
   "outputs": [],
   "source": [
    "# Getting the Roll Number from data\n",
    "RollNum = re.findall(\"([AI]+-\\d{5})\", fdata)\n",
    "for i, j in enumerate(RollNum):\n",
    "    print(i, j)"
   ]
  },
  {
   "cell_type": "code",
   "execution_count": null,
   "id": "2be31406",
   "metadata": {},
   "outputs": [],
   "source": [
    "# Getting the student name from data\n",
    "StudName = re.findall(r\"\\b[A-Z]\\w+\\s[A-Z]\\w+\", fdata)\n",
    "DistName = set(StudName)\n",
    "StudName = list(DistName)\n",
    "for i, j in enumerate(StudName):\n",
    "    print(i, j)"
   ]
  },
  {
   "cell_type": "code",
   "execution_count": null,
   "id": "c8713219",
   "metadata": {},
   "outputs": [],
   "source": [
    "# Cleaning Student Name from list\n",
    "for index, i in enumerate(StudName):\n",
    "    if i.strip().lower() in ('roll no','mobile no','mobile number'):\n",
    "        StudName.pop(index)\n",
    "    print(index, i)"
   ]
  },
  {
   "cell_type": "code",
   "execution_count": null,
   "id": "07acd16b",
   "metadata": {},
   "outputs": [],
   "source": [
    "email = re.findall(\"[A-z0-9.]+@\\w+\\.\\w+\", fdata)\n",
    "email = list(set(email))\n",
    "for i, j in enumerate(email):\n",
    "    print(i, j)"
   ]
  },
  {
   "cell_type": "code",
   "execution_count": null,
   "id": "8ee265e5",
   "metadata": {},
   "outputs": [],
   "source": [
    "tempMob = re.findall(r\"\\b03\\d{8,9}|\\+\\d*\\s\\d*\\s\\d*\", fdata)\n",
    "for i, j in enumerate(tempMob):\n",
    "    print(i, j)"
   ]
  },
  {
   "cell_type": "code",
   "execution_count": null,
   "id": "89a63f8f",
   "metadata": {},
   "outputs": [],
   "source": [
    "# Cleanig Mobile Data\n",
    "mobile = []\n",
    "for i, j in enumerate(tempMob):\n",
    "    if j[0] == '+':\n",
    "        mobile.append(j)\n",
    "    else:\n",
    "        mobile.append(\"+92\"+' '+j[1:4]+' '+j[4:])\n",
    "mobile = list(set(mobile))\n",
    "for i, j in enumerate(mobile):\n",
    "    print(j, i)"
   ]
  },
  {
   "cell_type": "code",
   "execution_count": null,
   "id": "07735b8a",
   "metadata": {},
   "outputs": [],
   "source": [
    "# Creatig Dictionary  \n",
    "DataDict = {'RollNum'   : RollNum,\n",
    "            'StudName'  : StudName,\n",
    "            'Mobile'    : mobile,\n",
    "            'Email'     : email}"
   ]
  },
  {
   "cell_type": "code",
   "execution_count": null,
   "id": "53612d01",
   "metadata": {},
   "outputs": [],
   "source": [
    "{k:len(v) for k,v in DataDict.items()}"
   ]
  },
  {
   "cell_type": "code",
   "execution_count": null,
   "id": "a94dff20",
   "metadata": {},
   "outputs": [],
   "source": [
    "import pandas as pd\n",
    "df = pd.DataFrame({k:pd.Series(v) for k,v in DataDict.items()})\n",
    "df.head()"
   ]
  },
  {
   "cell_type": "code",
   "execution_count": null,
   "id": "6418f357",
   "metadata": {},
   "outputs": [],
   "source": []
  }
 ],
 "metadata": {
  "kernelspec": {
   "display_name": "Python 3 (ipykernel)",
   "language": "python",
   "name": "python3"
  },
  "language_info": {
   "codemirror_mode": {
    "name": "ipython",
    "version": 3
   },
   "file_extension": ".py",
   "mimetype": "text/x-python",
   "name": "python",
   "nbconvert_exporter": "python",
   "pygments_lexer": "ipython3",
   "version": "3.9.12"
  }
 },
 "nbformat": 4,
 "nbformat_minor": 5
}
