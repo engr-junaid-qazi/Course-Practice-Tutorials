{
 "cells": [
  {
   "cell_type": "markdown",
   "id": "bb6b5ffe",
   "metadata": {},
   "source": [
    "1. Using dictionaries\n",
    "\n",
    "Dictionary are useful for storing key/value pair, grouping data by time or structuring hierarchical data like org charts. Let's take a look.\n",
    "\n",
    "2. Creating and looping through dictionaries \n",
    "\n"
   ]
  }
 ],
 "metadata": {
  "kernelspec": {
   "display_name": "Python 3 (ipykernel)",
   "language": "python",
   "name": "python3"
  },
  "language_info": {
   "codemirror_mode": {
    "name": "ipython",
    "version": 3
   },
   "file_extension": ".py",
   "mimetype": "text/x-python",
   "name": "python",
   "nbconvert_exporter": "python",
   "pygments_lexer": "ipython3",
   "version": "3.9.12"
  }
 },
 "nbformat": 4,
 "nbformat_minor": 5
}
