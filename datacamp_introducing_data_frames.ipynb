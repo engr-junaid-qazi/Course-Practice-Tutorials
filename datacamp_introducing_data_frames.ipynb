{
 "cells": [
  {
   "cell_type": "code",
   "execution_count": 9,
   "metadata": {},
   "outputs": [
    {
     "name": "stdout",
     "output_type": "stream",
     "text": [
      "<class 'pandas.core.frame.DataFrame'>\n",
      "RangeIndex: 29632 entries, 0 to 29631\n",
      "Data columns (total 14 columns):\n",
      " #   Column                 Non-Null Count  Dtype \n",
      "---  ------                 --------------  ----- \n",
      " 0   SIBA TESTING SERVICES  29631 non-null  object\n",
      " 1   Unnamed: 1             29628 non-null  object\n",
      " 2   Unnamed: 2             29628 non-null  object\n",
      " 3   Unnamed: 3             29627 non-null  object\n",
      " 4   Unnamed: 4             29628 non-null  object\n",
      " 5   Unnamed: 5             29628 non-null  object\n",
      " 6   Unnamed: 6             29628 non-null  object\n",
      " 7   Unnamed: 7             29628 non-null  object\n",
      " 8   Unnamed: 8             29628 non-null  object\n",
      " 9   Unnamed: 9             29622 non-null  object\n",
      " 10  Unnamed: 10            29628 non-null  object\n",
      " 11  Unnamed: 11            29624 non-null  object\n",
      " 12  Unnamed: 12            29623 non-null  object\n",
      " 13  Unnamed: 13            29628 non-null  object\n",
      "dtypes: object(14)\n",
      "memory usage: 1.6+ MB\n"
     ]
    }
   ],
   "source": [
    "import pandas as pd\n",
    "ch = pd.read_excel('D:\\JOBS & SCHOLARSHIPS\\PST JEST JOB\\LISTS\\Final JEST - May 18-2022 at cut off 40.xls')\n",
    "ch.info()\n",
    "#print(ch.head())"
   ]
  },
  {
   "cell_type": "code",
   "execution_count": 11,
   "metadata": {},
   "outputs": [
    {
     "name": "stdout",
     "output_type": "stream",
     "text": [
      "      SIBA TESTING SERVICES Unnamed: 1         Unnamed: 2  \\\n",
      "4                        S#      Seat#  Name of Candidate   \n",
      "5                         1   10740353   Khalil Ul Rehman   \n",
      "6                         2   10741027   Rafique Abdullah   \n",
      "7                         3   10741882        Abdul Basat   \n",
      "8                         4   10741513        Abdul Basit   \n",
      "...                     ...        ...                ...   \n",
      "29624                 29620   11740250   Aalam Bijjar Zai   \n",
      "29627                 29623   11740110        Syed Rehman   \n",
      "29629                 29625   11740328         Shiraz Ali   \n",
      "29630                 29626   11740010      Maqbool Ahmed   \n",
      "29631                 29627   11740009              Naila   \n",
      "\n",
      "                  Unnamed: 3       Unnamed: 4 Unnamed: 5  Unnamed: 6  \\\n",
      "4              Father's Name            CNIC#   Religion  Disability   \n",
      "5      Muhammad Iqbal Khatri  41101-8299848-7     Muslim          No   \n",
      "6            Muhammad Ramzan  41101-3898195-9     Muslim          No   \n",
      "7               Ali Muhammad  41101-3321533-9     Muslim          No   \n",
      "8               Abdul Rehman  41104-1684255-5     Muslim          No   \n",
      "...                      ...              ...        ...         ...   \n",
      "29624           Raheem Buksh  42401-6322552-5     Muslim          No   \n",
      "29627             Ali Rehman  42401-8608722-5     Muslim          No   \n",
      "29629          Abdul Shakoor  42401-3603843-7     Muslim          No   \n",
      "29630       Muhammad  Yousuf  42401-9903963-1     Muslim          No   \n",
      "29631        Muhammad Sharif  42401-1390031-6     Muslim          No   \n",
      "\n",
      "         Unnamed: 7     Unnamed: 8             Unnamed: 9   Unnamed: 10  \\\n",
      "4          District         Taluka                     UC   PhoneNumber   \n",
      "5             Badin          Badin               MC-Badin  0333-2548228   \n",
      "6             Badin          Badin             Kadi Qazia  0304-9303069   \n",
      "7             Badin          Badin  Muhammad Khan Bhurgri  0301-3144849   \n",
      "8             Badin          Badin            Tando Bago`  0333-2531085   \n",
      "...             ...            ...                    ...           ...   \n",
      "29624  West Karachi  S.I.T.E. Town              Site uc 4  0332-3533818   \n",
      "29627  West Karachi  S.I.T.E. Town                    UC3  0345-2335609   \n",
      "29629  West Karachi  S.I.T.E. Town                   Uc-1  0342-2347528   \n",
      "29630  West Karachi  S.I.T.E. Town              site town  0341-2423852   \n",
      "29631  West Karachi  S.I.T.E. Town                      8  0312-0211253   \n",
      "\n",
      "                                             Unnamed: 11  \\\n",
      "4                                       PermanentAddress   \n",
      "5      Zareen House, Ward No.4, Near Head Post Office...   \n",
      "6                Village Allahabad Parhiar, Taluka Badin   \n",
      "7      Village Andhalo P/O Badin Taluka and District ...   \n",
      "8      Ward No 05 Memon Muhalla Tando Bago district B...   \n",
      "...                                                  ...   \n",
      "29624  House 186 noor bagh hassan aulia village rexer...   \n",
      "29627  Home no.88 haider chali manghopir road site ar...   \n",
      "29629  Q1/1 pak modran colony mangopir road karachi w...   \n",
      "29630              B-400 Block 3 Metroville Site Karachi   \n",
      "29631  House No. 5/24, Sector R1., qasba colony, kara...   \n",
      "\n",
      "                                             Unnamed: 12  \\\n",
      "4                                          PostalAddress   \n",
      "5      Zareen House, Ward No.4, Near Head Post Office...   \n",
      "6           Al-Rehman Medical Store, Seerani Road, Badin   \n",
      "7      Maqbool Computer composing center opposite to ...   \n",
      "8      Ward No 05 Memon Muhalla Tando Bago district B...   \n",
      "...                                                  ...   \n",
      "29624  Ubl bunder road branch ma jinnah road opposite...   \n",
      "29627  Home no.88 haider chali manghopir road site ar...   \n",
      "29629                        R 25 sector 5D sarjani town   \n",
      "29630              B-400 Block 3 Metroville Site Karachi   \n",
      "29631  House No. 5/24, Sector R1., qasba colony, kara...   \n",
      "\n",
      "                     Unnamed: 13  \n",
      "4      Total Score\\n(Out of 100)  \n",
      "5                             75  \n",
      "6                             75  \n",
      "7                             70  \n",
      "8                             69  \n",
      "...                          ...  \n",
      "29624                         41  \n",
      "29627                         41  \n",
      "29629                         40  \n",
      "29630                         40  \n",
      "29631                         40  \n",
      "\n",
      "[26564 rows x 14 columns]\n"
     ]
    }
   ],
   "source": [
    "import pandas as pd\n",
    "ch = pd.read_excel(r'D:\\JOBS & SCHOLARSHIPS\\PST JEST JOB\\LISTS\\Final JEST - May 18-2022 at cut off 40.xls')\n",
    "name = ch[ch['Unnamed: 9'] > '60']\n",
    "print(name)"
   ]
  },
  {
   "cell_type": "code",
   "execution_count": 22,
   "metadata": {},
   "outputs": [
    {
     "ename": "AttributeError",
     "evalue": "'tuple' object has no attribute 'head'",
     "output_type": "error",
     "traceback": [
      "\u001b[1;31m---------------------------------------------------------------------------\u001b[0m",
      "\u001b[1;31mAttributeError\u001b[0m                            Traceback (most recent call last)",
      "\u001b[1;32m<ipython-input-22-68262febcfa8>\u001b[0m in \u001b[0;36m<module>\u001b[1;34m\u001b[0m\n\u001b[0;32m      2\u001b[0m \u001b[0mch\u001b[0m \u001b[1;33m=\u001b[0m \u001b[0mpd\u001b[0m\u001b[1;33m.\u001b[0m\u001b[0mread_excel\u001b[0m\u001b[1;33m(\u001b[0m\u001b[1;34m'D:\\JOBS & SCHOLARSHIPS\\PST JEST JOB\\LISTS\\practice.xlsx'\u001b[0m\u001b[1;33m)\u001b[0m\u001b[1;33m\u001b[0m\u001b[1;33m\u001b[0m\u001b[0m\n\u001b[0;32m      3\u001b[0m \u001b[0mname\u001b[0m \u001b[1;33m=\u001b[0m \u001b[1;33m(\u001b[0m\u001b[0mch\u001b[0m\u001b[1;33m[\u001b[0m\u001b[1;34m'Unnamed: 2'\u001b[0m\u001b[1;33m]\u001b[0m\u001b[1;33m,\u001b[0m \u001b[0mch\u001b[0m\u001b[1;33m[\u001b[0m\u001b[1;34m'Unnamed: 3'\u001b[0m\u001b[1;33m]\u001b[0m\u001b[1;33m)\u001b[0m\u001b[1;33m\u001b[0m\u001b[1;33m\u001b[0m\u001b[0m\n\u001b[1;32m----> 4\u001b[1;33m \u001b[0mname\u001b[0m\u001b[1;33m.\u001b[0m\u001b[0mhead\u001b[0m\u001b[1;33m(\u001b[0m\u001b[1;33m)\u001b[0m\u001b[1;33m\u001b[0m\u001b[1;33m\u001b[0m\u001b[0m\n\u001b[0m\u001b[0;32m      5\u001b[0m \u001b[1;31m#print(name.head())\u001b[0m\u001b[1;33m\u001b[0m\u001b[1;33m\u001b[0m\u001b[1;33m\u001b[0m\u001b[0m\n",
      "\u001b[1;31mAttributeError\u001b[0m: 'tuple' object has no attribute 'head'"
     ]
    }
   ],
   "source": [
    "import pandas as pd\n",
    "ch = pd.read_excel('D:\\JOBS & SCHOLARSHIPS\\PST JEST JOB\\LISTS\\practice.xlsx')\n",
    "name = (ch['Unnamed: 2'], ch['Unnamed: 3'])\n",
    "name.head()\n",
    "#print(name.head())"
   ]
  },
  {
   "cell_type": "code",
   "execution_count": 23,
   "metadata": {},
   "outputs": [
    {
     "data": {
      "text/plain": [
       "Index(['Unnamed: 0', 'Unnamed: 1', 'Unnamed: 2', 'Unnamed: 3', 'Unnamed: 4',\n",
       "       'Unnamed: 5', 'Unnamed: 6', 'Unnamed: 7', 'Unnamed: 8'],\n",
       "      dtype='object')"
      ]
     },
     "execution_count": 23,
     "metadata": {},
     "output_type": "execute_result"
    }
   ],
   "source": [
    "ch.columns"
   ]
  },
  {
   "cell_type": "code",
   "execution_count": 24,
   "metadata": {},
   "outputs": [
    {
     "data": {
      "text/plain": [
       "RangeIndex(start=0, stop=126, step=1)"
      ]
     },
     "execution_count": 24,
     "metadata": {},
     "output_type": "execute_result"
    }
   ],
   "source": [
    "ch.index"
   ]
  },
  {
   "cell_type": "code",
   "execution_count": 2,
   "metadata": {},
   "outputs": [
    {
     "name": "stdout",
     "output_type": "stream",
     "text": [
      "                                   SIBA TESTING SERVICES Unnamed: 1  \\\n",
      "0                          MERIT-TRANSPARENCY-TECHNOLOGY        NaN   \n",
      "1      RECRUITMENT TEST RESULT FOR THE POST OF JUNIOR...        NaN   \n",
      "2                   TESTS HELD: SEPTEMBER 13 TO 19, 2021        NaN   \n",
      "3                                                    NaN        NaN   \n",
      "4                                                     S#      Seat#   \n",
      "...                                                  ...        ...   \n",
      "29627                                              29623   11740110   \n",
      "29628                                              29624   11740143   \n",
      "29629                                              29625   11740328   \n",
      "29630                                              29626   11740010   \n",
      "29631                                              29627   11740009   \n",
      "\n",
      "              Unnamed: 2          Unnamed: 3       Unnamed: 4 Unnamed: 5  \\\n",
      "0                    NaN                 NaN              NaN        NaN   \n",
      "1                    NaN                 NaN              NaN        NaN   \n",
      "2                    NaN                 NaN              NaN        NaN   \n",
      "3                    NaN                 NaN              NaN        NaN   \n",
      "4      Name of Candidate       Father's Name            CNIC#   Religion   \n",
      "...                  ...                 ...              ...        ...   \n",
      "29627        Syed Rehman          Ali Rehman  42401-8608722-5     Muslim   \n",
      "29628     Zubair Rasheed  Abdul Rasheed Late  42401-2682117-7     Muslim   \n",
      "29629         Shiraz Ali       Abdul Shakoor  42401-3603843-7     Muslim   \n",
      "29630      Maqbool Ahmed    Muhammad  Yousuf  42401-9903963-1     Muslim   \n",
      "29631              Naila     Muhammad Sharif  42401-1390031-6     Muslim   \n",
      "\n",
      "       Unnamed: 6    Unnamed: 7     Unnamed: 8 Unnamed: 9   Unnamed: 10  \\\n",
      "0             NaN           NaN            NaN        NaN           NaN   \n",
      "1             NaN           NaN            NaN        NaN           NaN   \n",
      "2             NaN           NaN            NaN        NaN           NaN   \n",
      "3             NaN           NaN            NaN        NaN           NaN   \n",
      "4      Disability      District         Taluka         UC   PhoneNumber   \n",
      "...           ...           ...            ...        ...           ...   \n",
      "29627          No  West Karachi  S.I.T.E. Town        UC3  0345-2335609   \n",
      "29628          No  West Karachi  S.I.T.E. Town          -  0321-3984983   \n",
      "29629          No  West Karachi  S.I.T.E. Town       Uc-1  0342-2347528   \n",
      "29630          No  West Karachi  S.I.T.E. Town  site town  0341-2423852   \n",
      "29631          No  West Karachi  S.I.T.E. Town          8  0312-0211253   \n",
      "\n",
      "                                             Unnamed: 11  \\\n",
      "0                                                    NaN   \n",
      "1                                                    NaN   \n",
      "2                                                    NaN   \n",
      "3                                                    NaN   \n",
      "4                                       PermanentAddress   \n",
      "...                                                  ...   \n",
      "29627  Home no.88 haider chali manghopir road site ar...   \n",
      "29628  A#507 Block A Sector 10 Bagh e Korangi Townshi...   \n",
      "29629  Q1/1 pak modran colony mangopir road karachi w...   \n",
      "29630              B-400 Block 3 Metroville Site Karachi   \n",
      "29631  House No. 5/24, Sector R1., qasba colony, kara...   \n",
      "\n",
      "                                             Unnamed: 12  \\\n",
      "0                                                    NaN   \n",
      "1                                                    NaN   \n",
      "2                                                    NaN   \n",
      "3                                                    NaN   \n",
      "4                                          PostalAddress   \n",
      "...                                                  ...   \n",
      "29627  Home no.88 haider chali manghopir road site ar...   \n",
      "29628  A#507 Block A Sector 10 Bagh e Korangi Townshi...   \n",
      "29629                        R 25 sector 5D sarjani town   \n",
      "29630              B-400 Block 3 Metroville Site Karachi   \n",
      "29631  House No. 5/24, Sector R1., qasba colony, kara...   \n",
      "\n",
      "                     Unnamed: 13  \n",
      "0                            NaN  \n",
      "1                            NaN  \n",
      "2                            NaN  \n",
      "3                            NaN  \n",
      "4      Total Score\\n(Out of 100)  \n",
      "...                          ...  \n",
      "29627                         41  \n",
      "29628                         40  \n",
      "29629                         40  \n",
      "29630                         40  \n",
      "29631                         40  \n",
      "\n",
      "[29632 rows x 14 columns]\n"
     ]
    }
   ],
   "source": [
    "import pandas as pd\n",
    "ch = pd.read_excel('D:\\JOBS & SCHOLARSHIPS\\PST JEST JOB\\LISTS\\Final JEST - May 18-2022 at cut off 40.xls')\n",
    "print(ch.describe)"
   ]
  },
  {
   "cell_type": "code",
   "execution_count": 4,
   "metadata": {},
   "outputs": [
    {
     "name": "stdout",
     "output_type": "stream",
     "text": [
      "                SIBA TESTING SERVICES  Unnamed: 1 Unnamed: 2      Unnamed: 3  \\\n",
      "count                           29631       29628      29628           29627   \n",
      "unique                          29631       29622      12955           12795   \n",
      "top     MERIT-TRANSPARENCY-TECHNOLOGY    11960796   Asif Ali  Ghulam Mustafa   \n",
      "freq                                1           2        187             183   \n",
      "\n",
      "             Unnamed: 4 Unnamed: 5 Unnamed: 6 Unnamed: 7 Unnamed: 8  \\\n",
      "count             29628      29628      29628      29628      29628   \n",
      "unique            29622          2          3         31        143   \n",
      "top     45205-7980190-5     Muslim         No   Khairpur    Larkana   \n",
      "freq                  2      29627      29409       3308        998   \n",
      "\n",
      "       Unnamed: 9   Unnamed: 10 Unnamed: 11 Unnamed: 12  Unnamed: 13  \n",
      "count       29622         29628       29624       29623        29628  \n",
      "unique       9982         29621       28486       28409           42  \n",
      "top             2  0310-1811289        Same        Same           40  \n",
      "freq          154             2         231         141         2534  \n"
     ]
    }
   ],
   "source": [
    "import pandas as pd\n",
    "ch = pd.read_excel('D:\\JOBS & SCHOLARSHIPS\\PST JEST JOB\\LISTS\\Final JEST - May 18-2022 at cut off 40.xls')\n",
    "print(ch.describe())"
   ]
  },
  {
   "cell_type": "code",
   "execution_count": 8,
   "metadata": {},
   "outputs": [
    {
     "name": "stdout",
     "output_type": "stream",
     "text": [
      "(126, 9)\n"
     ]
    }
   ],
   "source": [
    "import pandas as pd\n",
    "ch = pd.read_excel('D:\\JOBS & SCHOLARSHIPS\\PST JEST JOB\\LISTS\\practice.xlsx')\n",
    "##name = (ch['Unnamed: 2'], ch['Unnamed: 3'])\n",
    "##ch.head() \n",
    "print(ch.shape)"
   ]
  },
  {
   "cell_type": "code",
   "execution_count": 9,
   "metadata": {},
   "outputs": [
    {
     "data": {
      "text/html": [
       "<div>\n",
       "<style scoped>\n",
       "    .dataframe tbody tr th:only-of-type {\n",
       "        vertical-align: middle;\n",
       "    }\n",
       "\n",
       "    .dataframe tbody tr th {\n",
       "        vertical-align: top;\n",
       "    }\n",
       "\n",
       "    .dataframe thead th {\n",
       "        text-align: right;\n",
       "    }\n",
       "</style>\n",
       "<table border=\"1\" class=\"dataframe\">\n",
       "  <thead>\n",
       "    <tr style=\"text-align: right;\">\n",
       "      <th></th>\n",
       "      <th>Unnamed: 0</th>\n",
       "      <th>Unnamed: 1</th>\n",
       "      <th>Unnamed: 2</th>\n",
       "      <th>Unnamed: 3</th>\n",
       "      <th>Unnamed: 4</th>\n",
       "      <th>Unnamed: 5</th>\n",
       "      <th>Unnamed: 6</th>\n",
       "      <th>Unnamed: 7</th>\n",
       "      <th>Unnamed: 8</th>\n",
       "    </tr>\n",
       "  </thead>\n",
       "  <tbody>\n",
       "    <tr>\n",
       "      <th>count</th>\n",
       "      <td>125</td>\n",
       "      <td>125</td>\n",
       "      <td>125</td>\n",
       "      <td>125</td>\n",
       "      <td>125</td>\n",
       "      <td>125</td>\n",
       "      <td>124</td>\n",
       "      <td>125</td>\n",
       "      <td>125</td>\n",
       "    </tr>\n",
       "    <tr>\n",
       "      <th>unique</th>\n",
       "      <td>125</td>\n",
       "      <td>125</td>\n",
       "      <td>120</td>\n",
       "      <td>109</td>\n",
       "      <td>125</td>\n",
       "      <td>2</td>\n",
       "      <td>78</td>\n",
       "      <td>125</td>\n",
       "      <td>22</td>\n",
       "    </tr>\n",
       "    <tr>\n",
       "      <th>top</th>\n",
       "      <td>62</td>\n",
       "      <td>10740441</td>\n",
       "      <td>Ghulam Murtaza</td>\n",
       "      <td>Ali Muhammad</td>\n",
       "      <td>41101-6367267-5</td>\n",
       "      <td>Badin</td>\n",
       "      <td>Luari Sharif</td>\n",
       "      <td>0333-2528887</td>\n",
       "      <td>52</td>\n",
       "    </tr>\n",
       "    <tr>\n",
       "      <th>freq</th>\n",
       "      <td>1</td>\n",
       "      <td>1</td>\n",
       "      <td>2</td>\n",
       "      <td>3</td>\n",
       "      <td>1</td>\n",
       "      <td>124</td>\n",
       "      <td>12</td>\n",
       "      <td>1</td>\n",
       "      <td>17</td>\n",
       "    </tr>\n",
       "  </tbody>\n",
       "</table>\n",
       "</div>"
      ],
      "text/plain": [
       "        Unnamed: 0  Unnamed: 1      Unnamed: 2    Unnamed: 3       Unnamed: 4  \\\n",
       "count          125         125             125           125              125   \n",
       "unique         125         125             120           109              125   \n",
       "top             62    10740441  Ghulam Murtaza  Ali Muhammad  41101-6367267-5   \n",
       "freq             1           1               2             3                1   \n",
       "\n",
       "       Unnamed: 5    Unnamed: 6    Unnamed: 7  Unnamed: 8  \n",
       "count         125           124           125         125  \n",
       "unique          2            78           125          22  \n",
       "top         Badin  Luari Sharif  0333-2528887          52  \n",
       "freq          124            12             1          17  "
      ]
     },
     "execution_count": 9,
     "metadata": {},
     "output_type": "execute_result"
    }
   ],
   "source": [
    "ch.describe()"
   ]
  },
  {
   "cell_type": "code",
   "execution_count": 10,
   "metadata": {},
   "outputs": [
    {
     "data": {
      "text/plain": [
       "Index(['Unnamed: 0', 'Unnamed: 1', 'Unnamed: 2', 'Unnamed: 3', 'Unnamed: 4',\n",
       "       'Unnamed: 5', 'Unnamed: 6', 'Unnamed: 7', 'Unnamed: 8'],\n",
       "      dtype='object')"
      ]
     },
     "execution_count": 10,
     "metadata": {},
     "output_type": "execute_result"
    }
   ],
   "source": [
    "ch.columns"
   ]
  },
  {
   "cell_type": "code",
   "execution_count": 11,
   "metadata": {},
   "outputs": [
    {
     "data": {
      "text/plain": [
       "RangeIndex(start=0, stop=126, step=1)"
      ]
     },
     "execution_count": 11,
     "metadata": {},
     "output_type": "execute_result"
    }
   ],
   "source": [
    "ch.index"
   ]
  },
  {
   "cell_type": "code",
   "execution_count": 12,
   "metadata": {},
   "outputs": [
    {
     "data": {
      "text/plain": [
       "array([[nan, nan, nan, ..., nan, nan, nan],\n",
       "       ['S#', 'Seat#', 'Name of Candidate', ..., 'UC', 'PhoneNumber',\n",
       "        'Total Score\\n(Out of 100)'],\n",
       "       [1, 10740353, 'Khalil Ul Rehman', ..., 'MC-Badin', '0333-2548228',\n",
       "        75],\n",
       "       ...,\n",
       "       [122, 10741297, 'Abdul Sattar', ..., 'Mitthi 3', '0303-3058815',\n",
       "        50],\n",
       "       [123, 10741625, 'Sanaullah', ..., 'Muhammad Khan Burghri',\n",
       "        '0336-2634094', 50],\n",
       "       [124, 10741586, 'Umair Ahmed Talpur', ..., 'Luari Sharif',\n",
       "        '0333-3715104', 50]], dtype=object)"
      ]
     },
     "execution_count": 12,
     "metadata": {},
     "output_type": "execute_result"
    }
   ],
   "source": [
    "ch.values"
   ]
  },
  {
   "cell_type": "code",
   "execution_count": 13,
   "metadata": {},
   "outputs": [
    {
     "ename": "SyntaxError",
     "evalue": "invalid syntax (<ipython-input-13-0fccf620f05c>, line 1)",
     "output_type": "error",
     "traceback": [
      "\u001b[1;36m  File \u001b[1;32m\"<ipython-input-13-0fccf620f05c>\"\u001b[1;36m, line \u001b[1;32m1\u001b[0m\n\u001b[1;33m    ch.[\"name\"]\u001b[0m\n\u001b[1;37m       ^\u001b[0m\n\u001b[1;31mSyntaxError\u001b[0m\u001b[1;31m:\u001b[0m invalid syntax\n"
     ]
    }
   ],
   "source": [
    "ch.[\"name\"]"
   ]
  },
  {
   "cell_type": "code",
   "execution_count": null,
   "metadata": {},
   "outputs": [],
   "source": []
  }
 ],
 "metadata": {
  "kernelspec": {
   "display_name": "Python 3",
   "language": "python",
   "name": "python3"
  },
  "language_info": {
   "codemirror_mode": {
    "name": "ipython",
    "version": 3
   },
   "file_extension": ".py",
   "mimetype": "text/x-python",
   "name": "python",
   "nbconvert_exporter": "python",
   "pygments_lexer": "ipython3",
   "version": "3.8.3"
  }
 },
 "nbformat": 4,
 "nbformat_minor": 4
}
