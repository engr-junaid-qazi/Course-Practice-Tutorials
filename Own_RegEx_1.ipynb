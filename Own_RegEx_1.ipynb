{
 "cells": [
  {
   "cell_type": "code",
   "execution_count": 4,
   "id": "70bb86dc",
   "metadata": {},
   "outputs": [],
   "source": [
    "import re"
   ]
  },
  {
   "cell_type": "code",
   "execution_count": 19,
   "id": "b81749e8",
   "metadata": {},
   "outputs": [
    {
     "data": {
      "text/plain": [
       "<re.Match object; span=(1, 2), match='y'>"
      ]
     },
     "execution_count": 19,
     "metadata": {},
     "output_type": "execute_result"
    }
   ],
   "source": [
    "string = 'My name is Junaid Jahangir Qazi'\n",
    "re.search('[a-z]',string)"
   ]
  },
  {
   "cell_type": "code",
   "execution_count": 22,
   "id": "9c29f1f2",
   "metadata": {},
   "outputs": [
    {
     "data": {
      "text/plain": [
       "['M',\n",
       " 'y',\n",
       " ' ',\n",
       " 'n',\n",
       " 'a',\n",
       " 'm',\n",
       " 'e',\n",
       " ' ',\n",
       " 'i',\n",
       " 's',\n",
       " ' ',\n",
       " 'J',\n",
       " 'u',\n",
       " 'n',\n",
       " 'a',\n",
       " 'i',\n",
       " 'd',\n",
       " ' ',\n",
       " 'J',\n",
       " 'a',\n",
       " 'h',\n",
       " 'a',\n",
       " 'n',\n",
       " 'g',\n",
       " 'i',\n",
       " 'r',\n",
       " ' ',\n",
       " 'Q',\n",
       " 'a',\n",
       " 'z',\n",
       " 'i']"
      ]
     },
     "execution_count": 22,
     "metadata": {},
     "output_type": "execute_result"
    }
   ],
   "source": [
    "string = 'My name is Junaid Jahangir Qazi'\n",
    "re.findall('[a-zA-z]',string)"
   ]
  },
  {
   "cell_type": "code",
   "execution_count": 1,
   "id": "77c1518f",
   "metadata": {},
   "outputs": [],
   "source": [
    "import re \n",
    "string = ''' My name is Hafiz Junaid Jahangir Qazi\n",
    "My Father's name is Qazi Muhammad Jahangir. \n",
    "My age is 36 years. \n",
    "I have two siblings i.e. a sister and a brother. My brother's name is Owais and sister name is Sadia. \n",
    "Brother age is 34 years while sister is 35 years old. \n",
    "My Home Address is: A-20, Ashraf Square, Block-17, Gulshan-e-Iqbal, Karachi. \n",
    "My Contact No.: +92-333-2564221\n",
    "Brother's Contact No.: +92-331-8922755\n",
    "Sister's Contact No.: +92-314-2993313'''"
   ]
  },
  {
   "cell_type": "code",
   "execution_count": 2,
   "id": "620b04f3",
   "metadata": {},
   "outputs": [
    {
     "data": {
      "text/plain": [
       "\" My name is Hafiz Junaid Jahangir Qazi\\nMy Father's name is Qazi Muhammad Jahangir. \\nMy age is 36 years. \\nI have two siblings i.e. a sister and a brother. My brother's name is Owais and sister name is Sadia. \\nBrother age is 34 years while sister is 35 years old. \\nMy Home Address is: A-20, Ashraf Square, Block-17, Gulshan-e-Iqbal, Karachi. \\nMy Contact No.: +92-333-2564221\\nBrother's Contact No.: +92-331-8922755\\nSister's Contact No.: +92-314-2993313\""
      ]
     },
     "execution_count": 2,
     "metadata": {},
     "output_type": "execute_result"
    }
   ],
   "source": [
    "string"
   ]
  },
  {
   "cell_type": "code",
   "execution_count": 29,
   "id": "fb8abd03",
   "metadata": {},
   "outputs": [
    {
     "data": {
      "text/plain": [
       "[' My name is Hafiz Junaid Jahangir Qazi',\n",
       " '',\n",
       " 'My Father',\n",
       " '',\n",
       " 's name is Qazi Muhammad Jahangir',\n",
       " '',\n",
       " ' ',\n",
       " '',\n",
       " 'My age is 36 years',\n",
       " '',\n",
       " ' ',\n",
       " '',\n",
       " 'I have two siblings i',\n",
       " '',\n",
       " 'e',\n",
       " '',\n",
       " ' a sister and a brother',\n",
       " '',\n",
       " ' My brother',\n",
       " '',\n",
       " 's name is Owais and sister name is Sadia',\n",
       " '',\n",
       " ' ',\n",
       " '',\n",
       " 'Brother age is 34 years while sister is 35 years old',\n",
       " '',\n",
       " ' ',\n",
       " '',\n",
       " 'My Home Address is',\n",
       " '',\n",
       " ' A',\n",
       " '',\n",
       " '20',\n",
       " '',\n",
       " ' Ashraf Square',\n",
       " '',\n",
       " ' Block',\n",
       " '',\n",
       " '17',\n",
       " '',\n",
       " ' Gulshan',\n",
       " '',\n",
       " 'e',\n",
       " '',\n",
       " 'Iqbal',\n",
       " '',\n",
       " ' Karachi',\n",
       " '',\n",
       " ' ',\n",
       " '',\n",
       " 'My Contact No',\n",
       " '',\n",
       " '',\n",
       " ' +92',\n",
       " '',\n",
       " '333',\n",
       " '',\n",
       " '2564221',\n",
       " '',\n",
       " 'Brother',\n",
       " '',\n",
       " 's Contact No',\n",
       " '',\n",
       " '',\n",
       " ' +92',\n",
       " '',\n",
       " '331',\n",
       " '',\n",
       " '8922755',\n",
       " '',\n",
       " 'Sister',\n",
       " '',\n",
       " 's Contact No',\n",
       " '',\n",
       " '',\n",
       " ' +92',\n",
       " '',\n",
       " '314',\n",
       " '',\n",
       " '2993313',\n",
       " '']"
      ]
     },
     "execution_count": 29,
     "metadata": {},
     "output_type": "execute_result"
    }
   ],
   "source": [
    "pattern1 = re.findall(r'[A-Z a-z \\d{2} + - ]*', string)\n",
    "pattern1"
   ]
  },
  {
   "cell_type": "code",
   "execution_count": 122,
   "id": "23994d7b",
   "metadata": {},
   "outputs": [],
   "source": [
    "string2 = '''Name: Hafiz Junaid Jahangir Qazi \n",
    "Father's Name: Qazi Muhammad Jahangir \n",
    "Age: 36 \n",
    "Address: A-20, AShraf Square, Block-17, Gulshan-e-Iqbal, Karachi \n",
    "Contact # +92-333-2564221'''"
   ]
  },
  {
   "cell_type": "code",
   "execution_count": 123,
   "id": "98ffb740",
   "metadata": {},
   "outputs": [
    {
     "data": {
      "text/plain": [
       "\"Name: Hafiz Junaid Jahangir Qazi \\nFather's Name: Qazi Muhammad Jahangir \\nAge: 36 \\nAddress: A-20, AShraf Square, Block-17, Gulshan-e-Iqbal, Karachi \\nContact # +92-333-2564221\""
      ]
     },
     "execution_count": 123,
     "metadata": {},
     "output_type": "execute_result"
    }
   ],
   "source": [
    "string2"
   ]
  },
  {
   "cell_type": "code",
   "execution_count": 121,
   "id": "b903c5a8",
   "metadata": {},
   "outputs": [
    {
     "data": {
      "text/plain": [
       "['+92-333-2564221']"
      ]
     },
     "execution_count": 121,
     "metadata": {},
     "output_type": "execute_result"
    }
   ],
   "source": [
    "contactno = re.findall('[\\+][9][2][-][3]{3}[-][0-9]{7}', string2)\n",
    "contactno"
   ]
  },
  {
   "cell_type": "code",
   "execution_count": 119,
   "id": "ed143a77",
   "metadata": {},
   "outputs": [
    {
     "data": {
      "text/plain": [
       "['d', 'd', 'A', 'A', 'd', 'd', 'A', 'A']"
      ]
     },
     "execution_count": 119,
     "metadata": {},
     "output_type": "execute_result"
    }
   ],
   "source": [
    "ptrn1 = re.findall('[\\b\"Add\"]', string2)\n",
    "ptrn1"
   ]
  },
  {
   "cell_type": "code",
   "execution_count": 124,
   "id": "5768d7af",
   "metadata": {},
   "outputs": [],
   "source": [
    "string2 = '''Name: Hafiz Junaid Jahangir Qazi \n",
    "Father's Name: Qazi Muhammad Jahangir \n",
    "Age: 36 \n",
    "Address: A-20, AShraf Square, Block-17, Gulshan-e-Iqbal, Karachi \n",
    "Contact # +92-333-2564221\n",
    "Brother's Name: Owais Qazi\n",
    "Contact # +92-331-8922755\n",
    "Sister's Name: Sadia Qazi\n",
    "Contact # +92-314-2993313'''"
   ]
  },
  {
   "cell_type": "code",
   "execution_count": 125,
   "id": "66d1b1eb",
   "metadata": {},
   "outputs": [
    {
     "data": {
      "text/plain": [
       "\"Name: Hafiz Junaid Jahangir Qazi \\nFather's Name: Qazi Muhammad Jahangir \\nAge: 36 \\nAddress: A-20, AShraf Square, Block-17, Gulshan-e-Iqbal, Karachi \\nContact # +92-333-2564221\\nBrother's Name: Owais Qazi\\nContact # +92-331-8922755\\nSister's Name: Sadia Qazi\\nContact # +92-314-2993313\""
      ]
     },
     "execution_count": 125,
     "metadata": {},
     "output_type": "execute_result"
    }
   ],
   "source": [
    "string2"
   ]
  },
  {
   "cell_type": "code",
   "execution_count": 3,
   "id": "466860b6",
   "metadata": {},
   "outputs": [],
   "source": [
    "string2 = '''Name: Hafiz Junaid Jahangir Qazi \n",
    "Father's Name: Qazi Muhammad Jahangir \n",
    "Age: 36 \n",
    "Address: A-20, AShraf Square, Block-17, Gulshan-e-Iqbal, Karachi \n",
    "Contact # +92-333-2564221\n",
    "Brother's Name: Owais Qazi\n",
    "Contact # +92-331-8922755\n",
    "Sister's Name: Sadia Qazi\n",
    "Contact # +92-314-2993313'''"
   ]
  },
  {
   "cell_type": "code",
   "execution_count": 81,
   "id": "66ed2e82",
   "metadata": {},
   "outputs": [
    {
     "data": {
      "text/plain": [
       "\"Name: Hafiz Junaid Jahangir Qazi \\nFather's Name: Qazi Muhammad Jahangir \\nAge: 36 \\nAddress: A-20, AShraf Square, Block-17, Gulshan-e-Iqbal, Karachi \\nContact # +92-333-2564221\\nBrother's Name: Owais Qazi\\nContact # +92-331-8922755\\nSister's Name: Sadia Qazi\\nContact # +92-314-2993313\""
      ]
     },
     "execution_count": 81,
     "metadata": {},
     "output_type": "execute_result"
    }
   ],
   "source": [
    "string2"
   ]
  },
  {
   "cell_type": "code",
   "execution_count": 7,
   "id": "34cf58ad",
   "metadata": {},
   "outputs": [
    {
     "data": {
      "text/plain": [
       "['+92-333-2564221', '+92-331-8922755', '+92-314-2993313']"
      ]
     },
     "execution_count": 7,
     "metadata": {},
     "output_type": "execute_result"
    }
   ],
   "source": [
    "import re\n",
    "contactno = re.findall('[\\+][9][2][-][0-9]{3}[-][0-9]{7}', string2)\n",
    "contactno"
   ]
  },
  {
   "cell_type": "code",
   "execution_count": 51,
   "id": "17bb0f5a",
   "metadata": {},
   "outputs": [
    {
     "data": {
      "text/plain": [
       "['+92-333-2564221', '+92-331-8922755', '+92-314-2993313']"
      ]
     },
     "execution_count": 51,
     "metadata": {},
     "output_type": "execute_result"
    }
   ],
   "source": [
    "import re\n",
    "contactno = re.findall('[\\+][9][2].*[0-9]{3}.*[0-9]{7}', string2)\n",
    "contactno"
   ]
  },
  {
   "cell_type": "code",
   "execution_count": 78,
   "id": "eea0d295",
   "metadata": {},
   "outputs": [
    {
     "name": "stdout",
     "output_type": "stream",
     "text": [
      "(28, 32)\n",
      "(49, 53)\n",
      "(196, 200)\n",
      "(248, 252)\n"
     ]
    }
   ],
   "source": [
    "for i in re.finditer('Qazi', string2):\n",
    "    lookup = i.span()\n",
    "    print(lookup)"
   ]
  },
  {
   "cell_type": "code",
   "execution_count": 96,
   "id": "350fee37",
   "metadata": {},
   "outputs": [
    {
     "name": "stdout",
     "output_type": "stream",
     "text": [
      "['Qazi', 'Qazi', 'Qazi', 'Qazi']\n"
     ]
    },
    {
     "data": {
      "text/plain": [
       "4"
      ]
     },
     "execution_count": 96,
     "metadata": {},
     "output_type": "execute_result"
    }
   ],
   "source": [
    "stri = re.findall('Qazi', string2)\n",
    "print(stri)\n",
    "len(stri)"
   ]
  },
  {
   "cell_type": "code",
   "execution_count": 84,
   "id": "9ba1eb94",
   "metadata": {},
   "outputs": [
    {
     "name": "stdout",
     "output_type": "stream",
     "text": [
      "N\n",
      "a\n",
      "m\n",
      "e\n",
      ":\n",
      " \n",
      "H\n",
      "a\n",
      "f\n",
      "i\n",
      "z\n",
      " \n",
      "J\n",
      "u\n",
      "n\n",
      "a\n",
      "i\n",
      "d\n",
      " \n",
      "J\n",
      "a\n",
      "h\n",
      "a\n",
      "n\n",
      "g\n",
      "i\n",
      "r\n",
      " \n",
      "Q\n",
      "a\n",
      "z\n",
      "i\n",
      " \n",
      "\n",
      "\n",
      "F\n",
      "a\n",
      "t\n",
      "h\n",
      "e\n",
      "r\n",
      "'\n",
      "s\n",
      " \n",
      "N\n",
      "a\n",
      "m\n",
      "e\n",
      ":\n",
      " \n",
      "Q\n",
      "a\n",
      "z\n",
      "i\n",
      " \n",
      "M\n",
      "u\n",
      "h\n",
      "a\n",
      "m\n",
      "m\n",
      "a\n",
      "d\n",
      " \n",
      "J\n",
      "a\n",
      "h\n",
      "a\n",
      "n\n",
      "g\n",
      "i\n",
      "r\n",
      " \n",
      "\n",
      "\n",
      "A\n",
      "g\n",
      "e\n",
      ":\n",
      " \n",
      "3\n",
      "6\n",
      " \n",
      "\n",
      "\n",
      "A\n",
      "d\n",
      "d\n",
      "r\n",
      "e\n",
      "s\n",
      "s\n",
      ":\n",
      " \n",
      "A\n",
      "-\n",
      "2\n",
      "0\n",
      ",\n",
      " \n",
      "A\n",
      "S\n",
      "h\n",
      "r\n",
      "a\n",
      "f\n",
      " \n",
      "S\n",
      "q\n",
      "u\n",
      "a\n",
      "r\n",
      "e\n",
      ",\n",
      " \n",
      "B\n",
      "l\n",
      "o\n",
      "c\n",
      "k\n",
      "-\n",
      "1\n",
      "7\n",
      ",\n",
      " \n",
      "G\n",
      "u\n",
      "l\n",
      "s\n",
      "h\n",
      "a\n",
      "n\n",
      "-\n",
      "e\n",
      "-\n",
      "I\n",
      "q\n",
      "b\n",
      "a\n",
      "l\n",
      ",\n",
      " \n",
      "K\n",
      "a\n",
      "r\n",
      "a\n",
      "c\n",
      "h\n",
      "i\n",
      " \n",
      "\n",
      "\n",
      "C\n",
      "o\n",
      "n\n",
      "t\n",
      "a\n",
      "c\n",
      "t\n",
      " \n",
      "#\n",
      " \n",
      "+\n",
      "9\n",
      "2\n",
      "-\n",
      "3\n",
      "3\n",
      "3\n",
      "-\n",
      "2\n",
      "5\n",
      "6\n",
      "4\n",
      "2\n",
      "2\n",
      "1\n",
      "\n",
      "\n",
      "B\n",
      "r\n",
      "o\n",
      "t\n",
      "h\n",
      "e\n",
      "r\n",
      "'\n",
      "s\n",
      " \n",
      "N\n",
      "a\n",
      "m\n",
      "e\n",
      ":\n",
      " \n",
      "O\n",
      "w\n",
      "a\n",
      "i\n",
      "s\n",
      " \n",
      "Q\n",
      "a\n",
      "z\n",
      "i\n",
      "\n",
      "\n",
      "C\n",
      "o\n",
      "n\n",
      "t\n",
      "a\n",
      "c\n",
      "t\n",
      " \n",
      "#\n",
      " \n",
      "+\n",
      "9\n",
      "2\n",
      "-\n",
      "3\n",
      "3\n",
      "1\n",
      "-\n",
      "8\n",
      "9\n",
      "2\n",
      "2\n",
      "7\n",
      "5\n",
      "5\n",
      "\n",
      "\n",
      "S\n",
      "i\n",
      "s\n",
      "t\n",
      "e\n",
      "r\n",
      "'\n",
      "s\n",
      " \n",
      "N\n",
      "a\n",
      "m\n",
      "e\n",
      ":\n",
      " \n",
      "S\n",
      "a\n",
      "d\n",
      "i\n",
      "a\n",
      " \n",
      "Q\n",
      "a\n",
      "z\n",
      "i\n",
      "\n",
      "\n",
      "C\n",
      "o\n",
      "n\n",
      "t\n",
      "a\n",
      "c\n",
      "t\n",
      " \n",
      "#\n",
      " \n",
      "+\n",
      "9\n",
      "2\n",
      "-\n",
      "3\n",
      "1\n",
      "4\n",
      "-\n",
      "2\n",
      "9\n",
      "9\n",
      "3\n",
      "3\n",
      "1\n",
      "3\n"
     ]
    }
   ],
   "source": [
    "import re\n",
    "string3 = re.findall('[Name:].', string2)\n",
    "for i in string2:\n",
    "    print(i)"
   ]
  },
  {
   "cell_type": "code",
   "execution_count": 87,
   "id": "5394fa17",
   "metadata": {},
   "outputs": [],
   "source": [
    "string4 = '''My name is Junaid Jahangir Qazi. My father's name is Qazi M. Jahangir. My age is 35 years. My Contact # 03332564221'''"
   ]
  },
  {
   "cell_type": "code",
   "execution_count": 88,
   "id": "cf591c78",
   "metadata": {},
   "outputs": [
    {
     "data": {
      "text/plain": [
       "\"My name is Junaid Jahangir Qazi. My father's name is Qazi M. Jahangir. My age is 35 years. My Contact # 03332564221\""
      ]
     },
     "execution_count": 88,
     "metadata": {},
     "output_type": "execute_result"
    }
   ],
   "source": [
    "string4"
   ]
  },
  {
   "cell_type": "code",
   "execution_count": 93,
   "id": "cb542d5e",
   "metadata": {},
   "outputs": [
    {
     "data": {
      "text/plain": [
       "['Qazi', 'Qazi']"
      ]
     },
     "execution_count": 93,
     "metadata": {},
     "output_type": "execute_result"
    }
   ],
   "source": [
    "import re \n",
    "string5 = re.findall('Qazi', string4)\n",
    "string5"
   ]
  },
  {
   "cell_type": "code",
   "execution_count": 100,
   "id": "ebeb368c",
   "metadata": {},
   "outputs": [
    {
     "data": {
      "text/plain": [
       "['-', '-', '-', '-', '-', '-', '-', '-', '-', '-']"
      ]
     },
     "execution_count": 100,
     "metadata": {},
     "output_type": "execute_result"
    }
   ],
   "source": [
    "string6 = re.findall('-', string2)\n",
    "string6"
   ]
  },
  {
   "cell_type": "code",
   "execution_count": 101,
   "id": "a5ea461e",
   "metadata": {},
   "outputs": [
    {
     "data": {
      "text/plain": [
       "['Name', 'Name', 'Name', 'Name']"
      ]
     },
     "execution_count": 101,
     "metadata": {},
     "output_type": "execute_result"
    }
   ],
   "source": [
    "string6 = re.findall('Name', string2)\n",
    "string6"
   ]
  },
  {
   "cell_type": "code",
   "execution_count": null,
   "id": "9c9f6149",
   "metadata": {},
   "outputs": [],
   "source": []
  }
 ],
 "metadata": {
  "kernelspec": {
   "display_name": "Python 3 (ipykernel)",
   "language": "python",
   "name": "python3"
  },
  "language_info": {
   "codemirror_mode": {
    "name": "ipython",
    "version": 3
   },
   "file_extension": ".py",
   "mimetype": "text/x-python",
   "name": "python",
   "nbconvert_exporter": "python",
   "pygments_lexer": "ipython3",
   "version": "3.9.12"
  }
 },
 "nbformat": 4,
 "nbformat_minor": 5
}
