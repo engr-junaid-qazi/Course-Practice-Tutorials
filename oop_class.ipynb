{
 "cells": [
  {
   "cell_type": "code",
   "execution_count": 1,
   "id": "5a6779b7",
   "metadata": {},
   "outputs": [
    {
     "name": "stdout",
     "output_type": "stream",
     "text": [
      "Enter Teacher's ID: 3346\n",
      "3346\n",
      "Enter Teacher's Name: Junaid\n",
      "Junaid\n"
     ]
    }
   ],
   "source": [
    "class Teacher():\n",
    "    def _init_(self, tid, education, name):\n",
    "        self.tid = \"\" \n",
    "        self.name = \"\"\n",
    "        self.education = \"\"\n",
    "        \n",
    "    tid = print(input(\"Enter Teacher's ID: \"))\n",
    "    name = print(input(\"Enter Teacher's Name: \"))\n",
    "    \n",
    "    def login(tid):\n",
    "        pass \n",
    "    def logout(name): \n",
    "        pass \n",
    "    \n",
    "s = Teacher()\n",
    "        "
   ]
  },
  {
   "cell_type": "code",
   "execution_count": null,
   "id": "e4d5dad6",
   "metadata": {},
   "outputs": [],
   "source": []
  }
 ],
 "metadata": {
  "kernelspec": {
   "display_name": "Python 3 (ipykernel)",
   "language": "python",
   "name": "python3"
  },
  "language_info": {
   "codemirror_mode": {
    "name": "ipython",
    "version": 3
   },
   "file_extension": ".py",
   "mimetype": "text/x-python",
   "name": "python",
   "nbconvert_exporter": "python",
   "pygments_lexer": "ipython3",
   "version": "3.9.12"
  }
 },
 "nbformat": 4,
 "nbformat_minor": 5
}
