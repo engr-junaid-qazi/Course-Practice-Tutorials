{
 "cells": [
  {
   "cell_type": "markdown",
   "id": "6f706fc0",
   "metadata": {},
   "source": [
    "## PYTHON DICTIONARY ASSIGNMENTS "
   ]
  },
  {
   "cell_type": "markdown",
   "id": "0de460fb",
   "metadata": {},
   "source": [
    "### **1. Merge following two Python dictionaries into one**\n",
    "\n",
    "* dict1 = {'Ten': 10, 'Twenty': 20, 'Thirty': 30}\n",
    "* dict2 = {'Thirty': 30, 'Fourty': 40, 'Fifty': 50}"
   ]
  },
  {
   "cell_type": "markdown",
   "id": "e9761f3c",
   "metadata": {},
   "source": [
    "#### 1. USING update() METHOD"
   ]
  },
  {
   "cell_type": "code",
   "execution_count": 8,
   "id": "80cdb1c9",
   "metadata": {},
   "outputs": [
    {
     "name": "stdout",
     "output_type": "stream",
     "text": [
      "{'Ten': 10, 'Twenty': 20, 'Thirty': 30, 'Fourty': 40, 'Fifty': 50, 'Sixty': 60}\n"
     ]
    }
   ],
   "source": [
    "dict1 = {'Ten': 10, 'Twenty': 20, 'Thirty': 30}\n",
    "dict2 = {'Fourty': 40, 'Fifty': 50, 'Sixty': 60}\n",
    "\n",
    "dict1.update(dict2)\n",
    "print(dict1)"
   ]
  },
  {
   "cell_type": "markdown",
   "id": "46901efd",
   "metadata": {},
   "source": [
    "#### 2. Using **kwargs\n",
    "\n",
    "* Kwargs aka **unpacking operator (**)** also allows you to merge two or more dictionaries.\n",
    "* Kwargs is short for Keyword Arguments. It lets you send variable length key-value pairs."
   ]
  },
  {
   "cell_type": "code",
   "execution_count": 10,
   "id": "4821af57",
   "metadata": {},
   "outputs": [
    {
     "name": "stdout",
     "output_type": "stream",
     "text": [
      "{'Ten': 10, 'Twenty': 20, 'Thirty': 30, 'Fourty': 40, 'Fifty': 50, 'Sixty': 60}\n"
     ]
    }
   ],
   "source": [
    "dict1 = {'Ten': 10, 'Twenty': 20, 'Thirty': 30}\n",
    "dict2 = {'Fourty': 40, 'Fifty': 50, 'Sixty': 60}\n",
    "dict3 = {**dict1, **dict2}\n",
    "print(dict3)"
   ]
  },
  {
   "cell_type": "markdown",
   "id": "1c0853d4",
   "metadata": {},
   "source": [
    "### 2. Given below are two lists: convert them into a dictionary\n",
    "\n",
    "* keys = ['A', 'E', 'I', ‘O’, ‘U’]\n",
    "* values = [“Vowels”]\n"
   ]
  },
  {
   "cell_type": "markdown",
   "id": "e144a831",
   "metadata": {},
   "source": [
    "### How to Convert Two Lists Into Dictionary in Python"
   ]
  },
  {
   "cell_type": "markdown",
   "id": "e79797ae",
   "metadata": {},
   "source": [
    "* **Method 1:** Using dict() with zip() to Convert Two Lists Into Dictionary in Python\n",
    "* **Method 2:** Using For Loop to Change Two Lists into Dictionary in Python\n",
    "* **Method 3:** Using Dictionary Comprehension in Python"
   ]
  },
  {
   "cell_type": "markdown",
   "id": "ccd0803e",
   "metadata": {},
   "source": [
    "#### Example:"
   ]
  },
  {
   "cell_type": "markdown",
   "id": "44ff22e9",
   "metadata": {},
   "source": [
    "**#Declare two List variables in Python**\n",
    "\n",
    "ListKeys = [\"Billy\", \"John\", \"Rock\"];\n",
    "\n",
    "ListValues = [11, 23.9, 19];\n",
    " \n",
    "**#Convert two Lists into Dictionary using zip()**\n",
    "\n",
    "mergeLists = dict(zip(ListKeys, ListValues))\n",
    " \n",
    "**#Print new Dictionary**\n",
    "\n",
    "print(\"Dictionary after conversion is: \"+str(mergeLists))"
   ]
  },
  {
   "cell_type": "code",
   "execution_count": 17,
   "id": "43bbe997",
   "metadata": {},
   "outputs": [
    {
     "name": "stdout",
     "output_type": "stream",
     "text": [
      "{'A': 'Vowels'}\n"
     ]
    }
   ],
   "source": [
    "keys = ['A', 'E', 'I', 'O', 'U']\n",
    "values = [\"Vowels\"]\n",
    "\n",
    "merge_list = dict(zip(keys, values))\n",
    "\n",
    "print(merge_list)"
   ]
  },
  {
   "cell_type": "markdown",
   "id": "66c11957",
   "metadata": {},
   "source": [
    "**Exercise 1:** Convert two lists into a dictionary\n",
    "    \n",
    "Below are the two lists. Write a Python program to convert them into a dictionary in a way that item from list1 is the key and item from list2 is the value\n",
    "\n",
    "**Given:**\n",
    "\n",
    "keys = ['Ten', 'Twenty', 'Thirty']\n",
    "\n",
    "values = [10, 20, 30]\n",
    "\n",
    "**Expected output:**\n",
    "\n",
    "{'Ten': 10, 'Twenty': 20, 'Thirty': 30}"
   ]
  },
  {
   "cell_type": "code",
   "execution_count": 18,
   "id": "f3818492",
   "metadata": {},
   "outputs": [
    {
     "name": "stdout",
     "output_type": "stream",
     "text": [
      "{'Ten': 10, 'Twenty': 20, 'Thirty': 30}\n"
     ]
    }
   ],
   "source": [
    "keys = ['Ten', 'Twenty', 'Thirty']\n",
    "values = [10, 20, 30]\n",
    "\n",
    "merge_list = dict(zip(keys, values))\n",
    "print(merge_list)"
   ]
  },
  {
   "cell_type": "code",
   "execution_count": null,
   "id": "966e189e",
   "metadata": {},
   "outputs": [],
   "source": []
  }
 ],
 "metadata": {
  "kernelspec": {
   "display_name": "Python 3 (ipykernel)",
   "language": "python",
   "name": "python3"
  },
  "language_info": {
   "codemirror_mode": {
    "name": "ipython",
    "version": 3
   },
   "file_extension": ".py",
   "mimetype": "text/x-python",
   "name": "python",
   "nbconvert_exporter": "python",
   "pygments_lexer": "ipython3",
   "version": "3.9.12"
  }
 },
 "nbformat": 4,
 "nbformat_minor": 5
}
