{
 "cells": [
  {
   "cell_type": "markdown",
   "id": "444c7a54",
   "metadata": {},
   "source": [
    "# COURSERA - ASSIGNMENT # 1 \n",
    "\n",
    "Submission:  \n",
    "\n",
    "a). Create a list called 'moons' with the following items:  \n",
    "* Europa\n",
    "* Ganymede\n",
    "* Io\n",
    "* Callisto\n",
    "* Amalthea\n",
    "* Himalia\n",
    "* Adrastea\n",
    "* Thebe\n",
    "* Valetudo\n",
    "\n",
    "b). Then, store the 3rd-5th items in another list called 'moons_subset'.  \n",
    "c). Append the last element of \"moons\" to \"moons_subset\"  "
   ]
  },
  {
   "cell_type": "code",
   "execution_count": 4,
   "id": "08531f8d",
   "metadata": {},
   "outputs": [
    {
     "name": "stdout",
     "output_type": "stream",
     "text": [
      "['Europa', 'Ganymede', 'Io', 'Callisto', 'Amalthea', 'Himalia', 'Adrastea', 'Thebe', 'Valetudo']\n"
     ]
    }
   ],
   "source": [
    "moons = ['Europa', 'Ganymede', 'Io', 'Callisto', 'Amalthea', 'Himalia', 'Adrastea', 'Thebe', 'Valetudo']\n",
    "print(moons)"
   ]
  },
  {
   "cell_type": "code",
   "execution_count": 22,
   "id": "0d790760",
   "metadata": {},
   "outputs": [
    {
     "name": "stdout",
     "output_type": "stream",
     "text": [
      "['Io', 'Callisto', 'Amalthea']\n"
     ]
    }
   ],
   "source": [
    "moons_subset = moons[2:5]\n",
    "print(moons_subset)"
   ]
  },
  {
   "cell_type": "code",
   "execution_count": 2,
   "id": "dd9d317e",
   "metadata": {},
   "outputs": [
    {
     "ename": "NameError",
     "evalue": "name 'moons_subset' is not defined",
     "output_type": "error",
     "traceback": [
      "\u001b[1;31m---------------------------------------------------------------------------\u001b[0m",
      "\u001b[1;31mNameError\u001b[0m                                 Traceback (most recent call last)",
      "Input \u001b[1;32mIn [2]\u001b[0m, in \u001b[0;36m<cell line: 1>\u001b[1;34m()\u001b[0m\n\u001b[1;32m----> 1\u001b[0m \u001b[43mmoons_subset\u001b[49m\u001b[38;5;241m.\u001b[39mappend(moons[\u001b[38;5;241m-\u001b[39m\u001b[38;5;241m2\u001b[39m])\n\u001b[0;32m      2\u001b[0m \u001b[38;5;28mprint\u001b[39m(moons_subset)\n",
      "\u001b[1;31mNameError\u001b[0m: name 'moons_subset' is not defined"
     ]
    }
   ],
   "source": [
    "moons_subset.append(moons[-2])\n",
    "print(moons_subset)"
   ]
  },
  {
   "cell_type": "code",
   "execution_count": 6,
   "id": "f3e0adbd",
   "metadata": {},
   "outputs": [
    {
     "name": "stdout",
     "output_type": "stream",
     "text": [
      "['Europa', 'Ganymede', 'Io', 'Callisto', 'Amalthea', 'Himalia', 'Adrastea', 'Thebe', 'Valetudo']\n",
      "['Io', 'Callisto', 'Amalthea']\n",
      "None\n"
     ]
    }
   ],
   "source": [
    "moons = ['Europa', 'Ganymede', 'Io', 'Callisto', 'Amalthea', 'Himalia', 'Adrastea', 'Thebe', 'Valetudo']\n",
    "moons_subset = moons[2:5]\n",
    "print(moons)\n",
    "print(moons_subset)\n",
    "print(moons_subset.append(moons[-3]))"
   ]
  },
  {
   "cell_type": "code",
   "execution_count": null,
   "id": "7984fc83",
   "metadata": {},
   "outputs": [],
   "source": []
  }
 ],
 "metadata": {
  "kernelspec": {
   "display_name": "Python 3 (ipykernel)",
   "language": "python",
   "name": "python3"
  },
  "language_info": {
   "codemirror_mode": {
    "name": "ipython",
    "version": 3
   },
   "file_extension": ".py",
   "mimetype": "text/x-python",
   "name": "python",
   "nbconvert_exporter": "python",
   "pygments_lexer": "ipython3",
   "version": "3.9.12"
  }
 },
 "nbformat": 4,
 "nbformat_minor": 5
}
