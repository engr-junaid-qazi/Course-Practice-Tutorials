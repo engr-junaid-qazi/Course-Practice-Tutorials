{
 "cells": [
  {
   "cell_type": "markdown",
   "metadata": {},
   "source": [
    "# 1. Image Processing"
   ]
  },
  {
   "cell_type": "markdown",
   "metadata": {},
   "source": [
    "#Table of Contents\n",
    "* [1. Image Processing](#1.-Image-Processing)\n",
    "* [2. Image Processing in Processing](#2.-Image-Processing-in-Processing)\n",
    "\t* [2.1 One-by-one Pixel Access](#2.1-One-by-one-Pixel-Access)\n",
    "\t\t* [2.1.1 Creating an PImage:](#2.1.1-Creating-an-PImage:)\n",
    "\t\t* [2.1.2 Setting colors using get/set](#2.1.2-Setting-colors-using-get/set)\n",
    "\t* [2.2 Entire Picture Access](#2.2-Entire-Picture-Access)\n",
    "\t\t* [2.2.1 Setting colors using an array](#2.2.1-Setting-colors-using-an-array)\n",
    "\t* [2.3 Assignment 8](#2.3-Assignment-8)\n",
    "\t\t* [2.3.1 Find the Orange Tower](#2.3.1-Find-the-Orange-Tower)\n",
    "\t* [2.4 Bonus](#2.4-Bonus)\n"
   ]
  },
  {
   "cell_type": "markdown",
   "metadata": {},
   "source": [
    "Images can be seen as being a two-dimensional matrix of colors. In Java/Processing, this could be implemented as an array of arrays of colors. Or just a single array where the rows are listed one after another. We call this matrix of colors \"pixels\" short for \"picture elements\".\n",
    "\n",
    "We alter an image by changing one pixel at at time; we can analyze a picture by accessing one pixel at a time. Both of these actions typically involve nested for-loops: one for width, and one for height. By doing this, we could:\n",
    "\n",
    "* find objects in a picture\n",
    "* do special effects, such as:\n",
    " * obamicon - mapping all colors to 4 particular colors\n",
    " * green screen effects, \"chroma key compositing\" - \n",
    " * lighten an image\n",
    " * edge detection\n",
    "* any of a number of things, limited only by your creativity\n",
    " \n",
    " <img src=\"http://api.ning.com/files/kV4MbYiv7oQxtg0u3OrWQkfZbxknaslOHLO9D9LHzZ--Ml7zc5AFWoFnntGTBV822fWbkmXBcaQiO2irIfHTwbtnGa5Bl7Rn/1082019727.jpeg\" height=\"300\"/>\n",
    " <img src=\"http://oakdome.com/k5/tutorials/green-screen/images/GreenScreenBeforeAfter.png\" height=\"300\"/>\n",
    " <img src=\"http://upload.wikimedia.org/wikipedia/en/8/8e/EdgeDetectionMathematica.png\" height=\"300\"/>"
   ]
  },
  {
   "cell_type": "markdown",
   "metadata": {},
   "source": [
    "# 2. Image Processing in Processing"
   ]
  },
  {
   "cell_type": "markdown",
   "metadata": {},
   "source": [
    "There are two ways of accessing a [PImage](http://processingjs.org/reference/PImage/)'s pixels in Processing:\n",
    "\n",
    "1. one-by-one, using `img.get(x, y)` and `img.set(x, y, c)`\n",
    "2. entire picture, using `img.loadPixels()`, use array, updatePixels()"
   ]
  },
  {
   "cell_type": "markdown",
   "metadata": {},
   "source": [
    "## 2.1 One-by-one Pixel Access"
   ]
  },
  {
   "cell_type": "markdown",
   "metadata": {},
   "source": [
    "Using Processing's PImage object, you can easily get/set a pixel's color by using the following interface:"
   ]
  },
  {
   "cell_type": "markdown",
   "metadata": {},
   "source": [
    "### 2.1.1 Creating an PImage:"
   ]
  },
  {
   "cell_type": "code",
   "execution_count": null,
   "metadata": {},
   "outputs": [],
   "source": [
    "PImage img = createImage(100, 100);\n",
    "image(img, 0, 0);"
   ]
  },
  {
   "cell_type": "markdown",
   "metadata": {},
   "source": [
    "### 2.1.2 Setting colors using get/set"
   ]
  },
  {
   "cell_type": "code",
   "execution_count": null,
   "metadata": {},
   "outputs": [],
   "source": [
    "PImage img = createImage(100, 100);\n",
    "for (int i=20; i < img.width; i++) {\n",
    "    for (int j=70; j < img.height; j++) {\n",
    "        img.set(i, j, color(255, 0, 0));\n",
    "    }\n",
    "}\n",
    "image(img, 0, 0);"
   ]
  },
  {
   "cell_type": "code",
   "execution_count": null,
   "metadata": {},
   "outputs": [],
   "source": [
    "PImage img = createImage(100, 100);\n",
    "for (int i=10; i < img.width - 10; i++) {\n",
    "    for (int j=10; j < img.height - 10; j++) {\n",
    "        img.set(i, j, color(0, 255, 0));\n",
    "    }\n",
    "}\n",
    "image(img, 0, 0);"
   ]
  },
  {
   "cell_type": "markdown",
   "metadata": {},
   "source": [
    "## 2.2 Entire Picture Access"
   ]
  },
  {
   "cell_type": "markdown",
   "metadata": {},
   "source": [
    "If you are going to access/change more than a few pixels, it is faster to:\n",
    "\n",
    "1. convert the entire picture into an array using `PImage.loadPixels()`\n",
    "2. access/change the array using `PImage.pixels[POSITION]`\n",
    "3. if changed, convert the entire array into a image back to image using `PImage.updatePixels()`"
   ]
  },
  {
   "cell_type": "markdown",
   "metadata": {},
   "source": [
    "### 2.2.1 Setting colors using an array"
   ]
  },
  {
   "cell_type": "code",
   "execution_count": null,
   "metadata": {},
   "outputs": [],
   "source": [
    "PImage img = createImage(100, 100);\n",
    "// Load colors from img into array:\n",
    "img.loadPixels();\n",
    "// Access array:\n",
    "for (int i=20; i < img.width; i++) {\n",
    "    for (int j=70; j < img.height; j++) {\n",
    "        img.pixels[i + (j * img.width)] = color(255, 0, 0);\n",
    "    }\n",
    "}\n",
    "// Load colors from array into img:\n",
    "img.updatePixels();\n",
    "image(img, 0, 0);"
   ]
  },
  {
   "cell_type": "code",
   "execution_count": null,
   "metadata": {},
   "outputs": [],
   "source": [
    "PImage img = createImage(100, 100);\n",
    "// Load colors from img into array:\n",
    "img.loadPixels();\n",
    "// Access array:\n",
    "for (int i=10; i < img.width-10; i++) {\n",
    "    for (int j=10; j < img.height-10; j++) {\n",
    "        img.pixels[i + (j * img.width)] = color(0, 255, 0);\n",
    "    }\n",
    "}\n",
    "// Load colors from array into img:\n",
    "img.updatePixels();\n",
    "image(img, 0, 0);"
   ]
  },
  {
   "cell_type": "markdown",
   "metadata": {},
   "source": [
    "## 2.3 Assignment 8"
   ]
  },
  {
   "cell_type": "markdown",
   "metadata": {},
   "source": [
    "For this assignment, you have a choice:\n",
    "\n",
    "1. Do image processing on an image of your choice\n",
    "2. Using image processing to find the orange tower"
   ]
  },
  {
   "cell_type": "markdown",
   "metadata": {},
   "source": [
    "### 2.3.1 Find the Orange Tower"
   ]
  },
  {
   "cell_type": "markdown",
   "metadata": {},
   "source": [
    "```java\n",
    "class MyRobot extends Robot {\n",
    "    MyRobot(float x, float y, float r) {\n",
    "        super(x, y, r);\n",
    "    }\n",
    "\n",
    "    void brain() {\n",
    "        PImage pic = this.takePicture();\n",
    "        // Show pic on canvas:\n",
    "        image(pic, 500 - 256, 250);\n",
    "        pic.loadPixels();\n",
    "        for (int i = 0; i < pic.width; i++) {\n",
    "            for (int j = 0; j < pic.height; j++) {\n",
    "                color pixel = pic.pixels[i + (j * pic.width)];\n",
    "                // ...\n",
    "            }\n",
    "        }   \n",
    "    }\n",
    "}\n",
    "```"
   ]
  },
  {
   "cell_type": "code",
   "execution_count": 1,
   "metadata": {},
   "outputs": [
    {
     "ename": "SyntaxError",
     "evalue": "invalid syntax (682118740.py, line 5)",
     "output_type": "error",
     "traceback": [
      "\u001b[1;36m  Input \u001b[1;32mIn [1]\u001b[1;36m\u001b[0m\n\u001b[1;33m    Robot robot;\u001b[0m\n\u001b[1;37m          ^\u001b[0m\n\u001b[1;31mSyntaxError\u001b[0m\u001b[1;31m:\u001b[0m invalid syntax\n"
     ]
    }
   ],
   "source": [
    "%include Robot.pde\n",
    "%include Hit.pde\n",
    "%include World.pde\n",
    "\n",
    "Robot robot;\n",
    "World world;\n",
    "int mx, my;\n",
    "\n",
    "void mousePressed() {\n",
    "    mx = mouseX;\n",
    "    my = mouseY;\n",
    "}\n",
    "\n",
    "void mouseDragged() {\n",
    "    robot.forward((mouseX - mx)/100.0);\n",
    "    robot.turn(-(mouseY - my)/1000.0);\n",
    "}\n",
    "\n",
    "void mouseReleased() {\n",
    "    robot.stop();\n",
    "}\n",
    "\n",
    "class MyRobot extends Robot {\n",
    "    MyRobot(float x, float y, float r) {\n",
    "        super(x, y, r);\n",
    "    }\n",
    "\n",
    "    void brain() {\n",
    "        PImage pic = this.takePicture();\n",
    "        // Show pic on canvas:\n",
    "        image(pic, 500 - 256, 250);\n",
    "        pic.loadPixels();\n",
    "        for (int i = 0; i < pic.width; i++) {\n",
    "            for (int j = 0; j < pic.height; j++) {\n",
    "                color pixel = pic.pixels[i + (j * pic.width)];\n",
    "                // ...\n",
    "            }\n",
    "        } \n",
    "    }\n",
    "}\n",
    "\n",
    "void setup() {\n",
    "    // Set up canvas 500, 250 for World, 128 for camera:\n",
    "    size(500, 250 + 128);\n",
    "    // Set rate so it doesn't overwhelm your browser:\n",
    "    frameRate(10);\n",
    "    // Create a simulated world:\n",
    "    world = new World(500, 250);\n",
    "    // put orange tower in a random place:\n",
    "    int x = random(10, 400 - 25);\n",
    "    int y = random(10, 250 - 10 - 25);\n",
    "    world.addBox(x, y, x + 25, y + 25, color(255, 150, 0));  \n",
    "    robot = new MyRobot(450, 125, 0);\n",
    "    world.addRobot(robot);\n",
    "}\n",
    "\n",
    "void draw() {\n",
    "    // Clear:\n",
    "    background(255);\n",
    "    // Run simulation for one step:\n",
    "    world.update();\n",
    "}\n"
   ]
  },
  {
   "cell_type": "markdown",
   "metadata": {},
   "source": [
    "## 2.4 Bonus"
   ]
  },
  {
   "cell_type": "markdown",
   "metadata": {},
   "source": [
    "Find the orange tower in a random, complex world:"
   ]
  },
  {
   "cell_type": "code",
   "execution_count": 2,
   "metadata": {},
   "outputs": [
    {
     "ename": "SyntaxError",
     "evalue": "invalid syntax (3591256848.py, line 5)",
     "output_type": "error",
     "traceback": [
      "\u001b[1;36m  Input \u001b[1;32mIn [2]\u001b[1;36m\u001b[0m\n\u001b[1;33m    Robot robot;\u001b[0m\n\u001b[1;37m          ^\u001b[0m\n\u001b[1;31mSyntaxError\u001b[0m\u001b[1;31m:\u001b[0m invalid syntax\n"
     ]
    }
   ],
   "source": [
    "%include Robot.pde\n",
    "%include Hit.pde\n",
    "%include World.pde\n",
    "\n",
    "Robot robot;\n",
    "World world;\n",
    "int mx, my;\n",
    "\n",
    "void mousePressed() {\n",
    "    mx = mouseX;\n",
    "    my = mouseY;\n",
    "}\n",
    "\n",
    "void mouseDragged() {\n",
    "    robot.forward((mouseX - mx)/100.0);\n",
    "    robot.turn(-(mouseY - my)/1000.0);\n",
    "}\n",
    "\n",
    "void mouseReleased() {\n",
    "    robot.stop();\n",
    "}\n",
    "\n",
    "class MyRobot extends Robot {\n",
    "    MyRobot(float x, float y, float r) {\n",
    "        super(x, y, r);\n",
    "    }\n",
    "\n",
    "    void brain() {\n",
    "        PImage pic = this.takePicture();\n",
    "        // Show pic on canvas:\n",
    "        image(pic, 500 - 256, 250);\n",
    "    }\n",
    "}\n",
    "\n",
    "void setup() {\n",
    "    // Set up canvas 500, 250 for World, 128 for camera:\n",
    "    size(500, 250 + 128);\n",
    "    // Set rate so it doesn't overwhelm your browser:\n",
    "    frameRate(10);\n",
    "    // Create a simulated world:\n",
    "    world = new World(500, 250);\n",
    "    \n",
    "    Integer[] colors = new Integer[] {color(255, 255, 0),\n",
    "                                      color(128, 0, 128),\n",
    "                                      color(255, 128, 255),\n",
    "                                      color(255, 0, 255),\n",
    "                                     };\n",
    "    for (int c = 1; c < 5; c++) {\n",
    "        int h = 100;\n",
    "        int y = random(10, 250 - h - 10);\n",
    "        world.addBox(100 * c, y, 100 * c + 10, y + h, colors[c]);  \n",
    "    }\n",
    "    // put orange tower in a random place:\n",
    "    int x = random(10, 100 - 25);\n",
    "    int y = random(10, 250 - 10 - 25);\n",
    "    world.addBox(x, y, x + 25, y + 25, color(255, 128, 0));  \n",
    "    // Create robot, and add to world:\n",
    "    robot = new MyRobot(450, 125, PI);\n",
    "    world.addRobot(robot);\n",
    "}\n",
    "\n",
    "void draw() {\n",
    "    // Clear:\n",
    "    background(255);\n",
    "    // Run simulation for one step:\n",
    "    world.update();\n",
    "}\n"
   ]
  },
  {
   "cell_type": "code",
   "execution_count": null,
   "metadata": {
    "collapsed": true
   },
   "outputs": [],
   "source": []
  }
 ],
 "metadata": {
  "kernelspec": {
   "display_name": "Python 3 (ipykernel)",
   "language": "python",
   "name": "python3"
  },
  "language_info": {
   "codemirror_mode": {
    "name": "ipython",
    "version": 3
   },
   "file_extension": ".py",
   "mimetype": "text/x-python",
   "name": "python",
   "nbconvert_exporter": "python",
   "pygments_lexer": "ipython3",
   "version": "3.9.12"
  }
 },
 "nbformat": 4,
 "nbformat_minor": 1
}
