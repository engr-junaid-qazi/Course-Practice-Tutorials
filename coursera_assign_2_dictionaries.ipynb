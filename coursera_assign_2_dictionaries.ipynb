{
 "cells": [
  {
   "cell_type": "markdown",
   "id": "8fd08ae5",
   "metadata": {},
   "source": [
    "Dictionaries:  \n",
    "\n",
    "a) 1 pt\n",
    "\n",
    "b) 1 pt\n",
    "\n",
    "c) 1 pt  \n",
    "\n",
    "a). Create a dictionary called \"rotation_speed\" with the key-value pair planet:speed.\n",
    "\n",
    "Planet:\n",
    "\n",
    "* Mercury:    6.73\n",
    "* Venus:      4.05\n",
    "* Earth:      1,040\n",
    "* Mars:       538\n",
    "* Jupiter:    28,325\n",
    "* Saturn:     22,892\n",
    "* Uranus:     9,193\n",
    "* Neptune:    6,039\n",
    "\n",
    "b). Store the keys of the dictionary into a list called 'planets'. Store the values into a list called 'speeds'.\n",
    "HINT: Be sure that these variables are stored as lists. You can use list(x) on any lisst-like object x to convert it into a list.  \n",
    "\n",
    "c). Extract the supply for 'Mars' and store it into a variable called 'mars_speed'\n"
   ]
  },
  {
   "cell_type": "code",
   "execution_count": 22,
   "id": "6a195bf1",
   "metadata": {},
   "outputs": [
    {
     "data": {
      "text/plain": [
       "{'Mercury': 6.73,\n",
       " 'Venus': 4.05,\n",
       " 'Earth': 1040,\n",
       " 'Mars': 538,\n",
       " 'Jupiter': 28325,\n",
       " 'Saturn': 22892,\n",
       " 'Uranus': 9193,\n",
       " 'Neptune': 6039}"
      ]
     },
     "execution_count": 22,
     "metadata": {},
     "output_type": "execute_result"
    }
   ],
   "source": [
    "#a). Create a dictionary called \"rotation_speed\" with the key-value pair planet:speed.\n",
    "\n",
    "rotation_speed = {\"Mercury\": 6.73, \"Venus\": 4.05, \"Earth\": 1040, \"Mars\": 538, \"Jupiter\": 28325, \"Saturn\": 22892, \"Uranus\": 9193,\n",
    "\"Neptune\": 6039}\n",
    "\n",
    "rotation_speed"
   ]
  },
  {
   "cell_type": "code",
   "execution_count": 19,
   "id": "3d6b1957",
   "metadata": {},
   "outputs": [
    {
     "name": "stdout",
     "output_type": "stream",
     "text": [
      "dict_keys(['Mercury', 'Venus', 'Earth', 'Mars', 'Jupiter', 'Saturn', 'Uranus', 'Neptune'])\n",
      "dict_values([6.73, 4.05, 1040, 538, 28325, 22892, 9193, 6039])\n"
     ]
    }
   ],
   "source": [
    "\"\"\"b). Store the keys of the dictionary into a list called 'planets'. Store the values into a list called 'speeds'.\n",
    "HINT: Be sure that these variables are stored as lists. You can use list(x) on any lisst-like object x to convert it into a list.\"\"\"  \n",
    "\n",
    "planets = rotation_speed.keys()\n",
    "list(planets)\n",
    "speeds = rotation_speed.values()\n",
    "list(speeds)\n",
    "\n",
    "print(planets)\n",
    "print(speeds)"
   ]
  },
  {
   "cell_type": "code",
   "execution_count": 20,
   "id": "38af8500",
   "metadata": {},
   "outputs": [
    {
     "name": "stdout",
     "output_type": "stream",
     "text": [
      "['Mercury', 'Venus', 'Earth', 'Mars', 'Jupiter', 'Saturn', 'Uranus', 'Neptune']\n",
      "[6.73, 4.05, 1040, 538, 28325, 22892, 9193, 6039]\n"
     ]
    }
   ],
   "source": [
    "\"\"\"b). Store the keys of the dictionary into a list called 'planets'. Store the values into a list called 'speeds'.\n",
    "HINT: Be sure that these variables are stored as lists. You can use list(x) on any lisst-like object x to convert it into a list.\"\"\"  \n",
    "\n",
    "planets = list(rotation_speed.keys())\n",
    "speeds = list(rotation_speed.values())\n",
    "print(planets)\n",
    "print(speeds)"
   ]
  },
  {
   "cell_type": "code",
   "execution_count": 30,
   "id": "1ae95624",
   "metadata": {},
   "outputs": [
    {
     "name": "stdout",
     "output_type": "stream",
     "text": [
      "538\n"
     ]
    }
   ],
   "source": [
    "#c). Extract the supply for 'Mars' and store it into a variable called 'mars_speed' \n",
    "\n",
    "mars_speed = rotation_speed['Mars']\n",
    "print(mars_speed)"
   ]
  },
  {
   "cell_type": "code",
   "execution_count": null,
   "id": "3a9a9ff4",
   "metadata": {},
   "outputs": [],
   "source": []
  }
 ],
 "metadata": {
  "kernelspec": {
   "display_name": "Python 3 (ipykernel)",
   "language": "python",
   "name": "python3"
  },
  "language_info": {
   "codemirror_mode": {
    "name": "ipython",
    "version": 3
   },
   "file_extension": ".py",
   "mimetype": "text/x-python",
   "name": "python",
   "nbconvert_exporter": "python",
   "pygments_lexer": "ipython3",
   "version": "3.9.12"
  }
 },
 "nbformat": 4,
 "nbformat_minor": 5
}
