{
 "cells": [
  {
   "cell_type": "code",
   "execution_count": 1,
   "id": "19a1d18d",
   "metadata": {},
   "outputs": [
    {
     "name": "stdout",
     "output_type": "stream",
     "text": [
      "Enter Your ID: 3346\n",
      "3346\n",
      "Enter Your Name: junaid\n",
      "junaid\n"
     ]
    },
    {
     "ename": "TypeError",
     "evalue": "__init__() takes 3 positional arguments but 4 were given",
     "output_type": "error",
     "traceback": [
      "\u001b[1;31m---------------------------------------------------------------------------\u001b[0m",
      "\u001b[1;31mTypeError\u001b[0m                                 Traceback (most recent call last)",
      "Input \u001b[1;32mIn [1]\u001b[0m, in \u001b[0;36m<cell line: 15>\u001b[1;34m()\u001b[0m\n\u001b[0;32m     12\u001b[0m     \u001b[38;5;28;01mdef\u001b[39;00m \u001b[38;5;21mlogout\u001b[39m(\u001b[38;5;28mself\u001b[39m):\n\u001b[0;32m     13\u001b[0m         \u001b[38;5;28;01mpass\u001b[39;00m \n\u001b[1;32m---> 15\u001b[0m s1 \u001b[38;5;241m=\u001b[39m \u001b[43mSaylani\u001b[49m\u001b[43m(\u001b[49m\u001b[38;5;241;43m1\u001b[39;49m\u001b[43m,\u001b[49m\u001b[43m \u001b[49m\u001b[38;5;124;43m'\u001b[39;49m\u001b[38;5;124;43mA\u001b[39;49m\u001b[38;5;124;43m'\u001b[39;49m\u001b[43m,\u001b[49m\u001b[43m \u001b[49m\u001b[38;5;124;43m'\u001b[39;49m\u001b[38;5;124;43mB\u001b[39;49m\u001b[38;5;124;43m'\u001b[39;49m\u001b[43m)\u001b[49m\n\u001b[0;32m     16\u001b[0m \u001b[38;5;66;03m#s2 = Saylani(sname)\u001b[39;00m\n\u001b[0;32m     17\u001b[0m \n\u001b[0;32m     18\u001b[0m \u001b[38;5;66;03m#print(s1.name, s2.name) \u001b[39;00m\n\u001b[0;32m     20\u001b[0m \u001b[38;5;28;01mclass\u001b[39;00m \u001b[38;5;21;01mTeacher\u001b[39;00m(Saylani): \u001b[38;5;66;03m#child class\u001b[39;00m\n",
      "\u001b[1;31mTypeError\u001b[0m: __init__() takes 3 positional arguments but 4 were given"
     ]
    }
   ],
   "source": [
    "class Saylani(): #parent classs\n",
    "\n",
    "    def __init__ (self, sid, sname): \n",
    "        self.sid = sid\n",
    "        self.sname = sname\n",
    "        \n",
    "    sid = print(input(\"Enter Your ID: \"))\n",
    "    sname = print(input(\"Enter Your Name: \"))\n",
    "        \n",
    "    def login(self):\n",
    "        pass\n",
    "    def logout(self):\n",
    "        pass \n",
    "    \n",
    "s1 = Saylani(1, 'A', 'B')\n",
    "#s2 = Saylani(sname)\n",
    "\n",
    "#print(s1.name, s2.name) \n",
    "\n",
    "class Teacher(Saylani): #child class\n",
    "\n",
    "    def __init__(self, sub, depart):\n",
    "        self.sub = sub\n",
    "        self.depart = depart \n",
    "        \n",
    "    sub = print(input(\"Subject Taught: \"))\n",
    "    depart = print(input(\"Department: \"))\n",
    "        \n",
    "    def teach(self):\n",
    "        pass\n",
    "    def depart(self):\n",
    "        pass\n",
    "    \n",
    "        \n",
    "class Student(Saylani): #child class \n",
    "\n",
    "    def __init__(self, stfname, age): \n",
    "        self.stfname = stfname\n",
    "        self.age = age\n",
    "        \n",
    "    stname = print(\"Name of Student: \",sname)\n",
    "    age = print(input(\"Age: \"))\n",
    "        \n",
    "    def listen(self):\n",
    "        pass\n",
    "    def read(self):\n",
    "        pass       "
   ]
  },
  {
   "cell_type": "code",
   "execution_count": 12,
   "id": "3dd3301e",
   "metadata": {},
   "outputs": [
    {
     "name": "stdout",
     "output_type": "stream",
     "text": [
      "Enter Teacher's ID: 3346\n",
      "3346\n",
      "Enter Teacher's Name: junaid\n",
      "junaid\n"
     ]
    },
    {
     "ename": "TypeError",
     "evalue": "Teacher() takes no arguments",
     "output_type": "error",
     "traceback": [
      "\u001b[1;31m---------------------------------------------------------------------------\u001b[0m",
      "\u001b[1;31mTypeError\u001b[0m                                 Traceback (most recent call last)",
      "Input \u001b[1;32mIn [12]\u001b[0m, in \u001b[0;36m<cell line: 15>\u001b[1;34m()\u001b[0m\n\u001b[0;32m     12\u001b[0m     \u001b[38;5;28;01mdef\u001b[39;00m \u001b[38;5;21mlogout\u001b[39m(name): \n\u001b[0;32m     13\u001b[0m         \u001b[38;5;28;01mpass\u001b[39;00m \n\u001b[1;32m---> 15\u001b[0m s \u001b[38;5;241m=\u001b[39m \u001b[43mTeacher\u001b[49m\u001b[43m(\u001b[49m\u001b[38;5;241;43m3\u001b[39;49m\u001b[43m)\u001b[49m\n",
      "\u001b[1;31mTypeError\u001b[0m: Teacher() takes no arguments"
     ]
    }
   ],
   "source": [
    "class Teacher():\n",
    "    def _init_(self, tid, education, name):\n",
    "        self.tid = \"\" \n",
    "        self.name = \"\"\n",
    "        self.education = \"\"\n",
    "        \n",
    "    tid = print(input(\"Enter Teacher's ID: \"))\n",
    "    name = print(input(\"Enter Teacher's Name: \"))\n",
    "    \n",
    "    def login(tid):\n",
    "        pass \n",
    "    def logout(name): \n",
    "        pass \n",
    "    \n",
    "s = Teacher(3)\n",
    "    "
   ]
  },
  {
   "cell_type": "code",
   "execution_count": 30,
   "id": "be891801",
   "metadata": {},
   "outputs": [
    {
     "name": "stdout",
     "output_type": "stream",
     "text": [
      "Enter Your ID: 3346\n",
      "Enter Your Name: junaid\n",
      "Subject Taught: electronics\n",
      "Department Name: electrical\n",
      "Enter Student's Father Name: qazi\n",
      "Enter Age: 37\n",
      "\n",
      "ID: \t\t 3346\n",
      "\n",
      "Name: \t\t junaid\n",
      "\n",
      "Subject Taught:  electronics\n",
      "\n",
      "Department Name:  electrical\n",
      "\n",
      "Father's Name:  qazi\n",
      "\n",
      "Age: \t\t 37\n"
     ]
    }
   ],
   "source": [
    "class Saylani(): #parent classs\n",
    "\n",
    "    def __init__ (self, sid, sname): \n",
    "        self.sid = sid\n",
    "        self.sname = sname\n",
    "        \n",
    "    n1 = input(\"Enter Your ID: \")\n",
    "    n2 = input(\"Enter Your Name: \")\n",
    "\n",
    "    def login(self):\n",
    "        pass\n",
    "    def logout(self):\n",
    "        pass \n",
    "    \n",
    "class Teacher(Saylani): #child class\n",
    "\n",
    "    def __init__(self, sub, depart):\n",
    "        self.sub = sub\n",
    "        self.depart = depart \n",
    "        \n",
    "    m1 = input(\"Subject Taught: \")\n",
    "    m2 = input(\"Department Name: \")\n",
    "    \n",
    "    \"\"\"\"\"def teach(self):\n",
    "        pass\n",
    "    def depart(self):\n",
    "        pass\"\"\"\n",
    "    \n",
    "class Student(Saylani): #child class \n",
    "\n",
    "    def __init__(self, stfname, age): \n",
    "        self.stfname = stfname\n",
    "        self.age = age\n",
    "        \n",
    "    p1 = input(\"Enter Student's Father Name: \")\n",
    "    p2 = input(\"Enter Age: \")\n",
    "            \n",
    "        \n",
    "    \"\"\"\"def listen(self):\n",
    "        pass\n",
    "    def read(self):\n",
    "        pass\"\"\"\n",
    "  \n",
    "s1 = Saylani('n1','n2')\n",
    "print(\"\\nID: \\t\\t\",s1.n1)\n",
    "print(\"\\nName: \\t\\t\",s1.n2)\n",
    "\n",
    "s2 = Teacher('m1', 'm2')\n",
    "print(\"\\nSubject Taught: \",s2.m1)\n",
    "print(\"\\nDepartment Name: \",s2.m2)    \n",
    "\n",
    "s3 = Student('p1', 'p2')\n",
    "print(\"\\nFather's Name: \",s3.p1)\n",
    "print(\"\\nAge: \\t\\t\",s3.p2)"
   ]
  },
  {
   "cell_type": "code",
   "execution_count": null,
   "id": "292f5425",
   "metadata": {},
   "outputs": [],
   "source": []
  }
 ],
 "metadata": {
  "kernelspec": {
   "display_name": "Python 3 (ipykernel)",
   "language": "python",
   "name": "python3"
  },
  "language_info": {
   "codemirror_mode": {
    "name": "ipython",
    "version": 3
   },
   "file_extension": ".py",
   "mimetype": "text/x-python",
   "name": "python",
   "nbconvert_exporter": "python",
   "pygments_lexer": "ipython3",
   "version": "3.9.12"
  }
 },
 "nbformat": 4,
 "nbformat_minor": 5
}
