{
 "cells": [
  {
   "cell_type": "code",
   "execution_count": 1,
   "metadata": {},
   "outputs": [
    {
     "data": {
      "text/plain": [
       "list"
      ]
     },
     "execution_count": 1,
     "metadata": {},
     "output_type": "execute_result"
    }
   ],
   "source": [
    "name = [\"junaid\", \"owais\", \"sadia\", \"qasim\", \"adnan\"]\n",
    "type(name)"
   ]
  },
  {
   "cell_type": "code",
   "execution_count": 7,
   "metadata": {},
   "outputs": [
    {
     "name": "stdout",
     "output_type": "stream",
     "text": [
      "['junaid', 'owais', 'sadia', 'qasim', 'adnan', 'farman']\n"
     ]
    }
   ],
   "source": [
    "name = [\"junaid\", \"owais\", \"sadia\", \"qasim\", \"adnan\"]\n",
    "name.append(\"farman\")\n",
    "print(name)"
   ]
  },
  {
   "cell_type": "code",
   "execution_count": 8,
   "metadata": {},
   "outputs": [
    {
     "name": "stdout",
     "output_type": "stream",
     "text": [
      "['junaid', 'sadia', 'qasim', 'adnan', 'farman']\n"
     ]
    }
   ],
   "source": [
    "name.remove(\"owais\")\n",
    "print(name)"
   ]
  },
  {
   "cell_type": "code",
   "execution_count": 9,
   "metadata": {},
   "outputs": [],
   "source": [
    "name.clear()"
   ]
  },
  {
   "cell_type": "code",
   "execution_count": 10,
   "metadata": {},
   "outputs": [
    {
     "name": "stdout",
     "output_type": "stream",
     "text": [
      "[]\n"
     ]
    }
   ],
   "source": [
    "print(name)"
   ]
  },
  {
   "cell_type": "code",
   "execution_count": 17,
   "metadata": {},
   "outputs": [
    {
     "name": "stdout",
     "output_type": "stream",
     "text": [
      "['junaid', 'owais', 'qasim', 'adnan', 'kashif', 'farman', 'faran', 'shahzaib', 'faisal']\n"
     ]
    }
   ],
   "source": [
    "name1 = [\"junaid\", \"owais\", \"qasim\", \"adnan\"]\n",
    "name2 = [\"kashif\", \"farman\", \"faran\", \"shahzaib\", \"faisal\"]\n",
    "name1.extend(name2)\n",
    "print(name1)"
   ]
  },
  {
   "cell_type": "code",
   "execution_count": 18,
   "metadata": {},
   "outputs": [
    {
     "name": "stdout",
     "output_type": "stream",
     "text": [
      "['junaid', 'owais', 'qasim', 'adnan', 'kashif', 'farman', 'faran', 'shahzaib', 'faisal', 'Mubashir', 'Saqib', 'Sami', 'Ibrahim', 'Ismail']\n"
     ]
    }
   ],
   "source": [
    "name3 = [\"Mubashir\", \"Saqib\", \"Sami\", \"Ibrahim\", \"Ismail\"]\n",
    "name1.extend(name3)\n",
    "print(name1)"
   ]
  },
  {
   "cell_type": "code",
   "execution_count": 20,
   "metadata": {},
   "outputs": [
    {
     "data": {
      "text/plain": [
       "['junaid', 'owais']"
      ]
     },
     "execution_count": 20,
     "metadata": {},
     "output_type": "execute_result"
    }
   ],
   "source": [
    "name1[:2:1]"
   ]
  },
  {
   "cell_type": "code",
   "execution_count": 21,
   "metadata": {},
   "outputs": [
    {
     "name": "stdout",
     "output_type": "stream",
     "text": [
      "['junaid', 'owais', 'qasim', 'adnan', 'kashif', 'farman', 'faran', 'shahzaib', 'faisal', 'Mubashir', 'Saqib', 'Sami', 'Ibrahim', 'Ismail']\n"
     ]
    }
   ],
   "source": [
    "print(name1)"
   ]
  },
  {
   "cell_type": "code",
   "execution_count": 24,
   "metadata": {},
   "outputs": [
    {
     "data": {
      "text/plain": [
       "['junaid',\n",
       " 'owais',\n",
       " 'qasim',\n",
       " 'adnan',\n",
       " 'kashif',\n",
       " 'farman',\n",
       " 'faran',\n",
       " 'shahzaib',\n",
       " 'faisal',\n",
       " 'Mubashir',\n",
       " 'Saqib',\n",
       " 'Sami',\n",
       " 'Ibrahim',\n",
       " 'Ismail']"
      ]
     },
     "execution_count": 24,
     "metadata": {},
     "output_type": "execute_result"
    }
   ],
   "source": [
    "list(name1)"
   ]
  },
  {
   "cell_type": "code",
   "execution_count": 25,
   "metadata": {},
   "outputs": [
    {
     "data": {
      "text/plain": [
       "['kashif', 'farman', 'faran', 'shahzaib', 'faisal']"
      ]
     },
     "execution_count": 25,
     "metadata": {},
     "output_type": "execute_result"
    }
   ],
   "source": [
    "list(name2)"
   ]
  },
  {
   "cell_type": "code",
   "execution_count": 26,
   "metadata": {},
   "outputs": [
    {
     "name": "stdout",
     "output_type": "stream",
     "text": [
      "['junaid', 'owais', 'qasim', 'adnan', 'kashif', 'farman', 'faran', 'shahzaib', 'faisal', 'Mubashir', 'Saqib', 'Sami', 'Ibrahim', 'Ismail']\n"
     ]
    }
   ],
   "source": [
    "name1 = [\"junaid\", \"owais\", \"qasim\", \"adnan\",\"kashif\", \"farman\", \"faran\", \"shahzaib\", \"faisal\", \n",
    "         \"Mubashir\", \"Saqib\", \"Sami\", \"Ibrahim\", \"Ismail\"]\n",
    "print(name1)"
   ]
  },
  {
   "cell_type": "code",
   "execution_count": 27,
   "metadata": {},
   "outputs": [
    {
     "data": {
      "text/plain": [
       "'farman'"
      ]
     },
     "execution_count": 27,
     "metadata": {},
     "output_type": "execute_result"
    }
   ],
   "source": [
    "name1[5]"
   ]
  },
  {
   "cell_type": "code",
   "execution_count": 28,
   "metadata": {},
   "outputs": [
    {
     "data": {
      "text/plain": [
       "['junaid', 'owais', 'qasim']"
      ]
     },
     "execution_count": 28,
     "metadata": {},
     "output_type": "execute_result"
    }
   ],
   "source": [
    "name1[0:3]"
   ]
  },
  {
   "cell_type": "code",
   "execution_count": 29,
   "metadata": {},
   "outputs": [
    {
     "data": {
      "text/plain": [
       "['junaid', 'owais', 'qasim']"
      ]
     },
     "execution_count": 29,
     "metadata": {},
     "output_type": "execute_result"
    }
   ],
   "source": [
    "name1[0:3:1]"
   ]
  },
  {
   "cell_type": "code",
   "execution_count": 30,
   "metadata": {},
   "outputs": [
    {
     "data": {
      "text/plain": [
       "['adnan', 'farman', 'shahzaib', 'Mubashir']"
      ]
     },
     "execution_count": 30,
     "metadata": {},
     "output_type": "execute_result"
    }
   ],
   "source": [
    "name1[3:11:2]"
   ]
  },
  {
   "cell_type": "code",
   "execution_count": 31,
   "metadata": {},
   "outputs": [
    {
     "data": {
      "text/plain": [
       "['Ismail',\n",
       " 'Ibrahim',\n",
       " 'Sami',\n",
       " 'Saqib',\n",
       " 'Mubashir',\n",
       " 'faisal',\n",
       " 'shahzaib',\n",
       " 'faran',\n",
       " 'farman',\n",
       " 'kashif',\n",
       " 'adnan',\n",
       " 'qasim',\n",
       " 'owais',\n",
       " 'junaid']"
      ]
     },
     "execution_count": 31,
     "metadata": {},
     "output_type": "execute_result"
    }
   ],
   "source": [
    "name1[::-1]"
   ]
  },
  {
   "cell_type": "code",
   "execution_count": 35,
   "metadata": {},
   "outputs": [],
   "source": [
    "name1 = [['junaid', 'owais', 'qasim', 'adnan'], \n",
    "['kashif', 'farman', 'faran', 'shahzaib', 'faisal'], \n",
    "['Mubashir', 'Saqib', 'Sami', 'Ibrahim', 'Ismail']]"
   ]
  },
  {
   "cell_type": "code",
   "execution_count": 37,
   "metadata": {},
   "outputs": [
    {
     "name": "stdout",
     "output_type": "stream",
     "text": [
      "Ibrahim\n"
     ]
    }
   ],
   "source": [
    "print(name1[2][3])"
   ]
  },
  {
   "cell_type": "code",
   "execution_count": 38,
   "metadata": {},
   "outputs": [
    {
     "name": "stdout",
     "output_type": "stream",
     "text": [
      "shahzaib\n"
     ]
    }
   ],
   "source": [
    "print(name1[1][3])"
   ]
  },
  {
   "cell_type": "code",
   "execution_count": 44,
   "metadata": {},
   "outputs": [
    {
     "data": {
      "text/plain": [
       "[['junaid', 'owais', 'qasim', 'adnan'],\n",
       " ['kashif', 'farman', 'faran', 'shahzaib', 'Asif'],\n",
       " ['Mubashir', 'Saqib', 'Sami', 'Ibrahim', 'Ismail']]"
      ]
     },
     "execution_count": 44,
     "metadata": {},
     "output_type": "execute_result"
    }
   ],
   "source": [
    "name1[1][4] = 'Asif'\n",
    "name1"
   ]
  },
  {
   "cell_type": "code",
   "execution_count": 40,
   "metadata": {},
   "outputs": [
    {
     "name": "stdout",
     "output_type": "stream",
     "text": [
      "[['junaid', 'owais', 'qasim', 'adnan'], ['kashif', 'farman', 'faran', 'shahzaib', 'faisal'], ['Mubashir', 'Saqib', 'Sami', 'Ibrahim', 'Ismail']]\n"
     ]
    }
   ],
   "source": [
    "print(name1)"
   ]
  },
  {
   "cell_type": "code",
   "execution_count": 1,
   "metadata": {},
   "outputs": [
    {
     "data": {
      "text/plain": [
       "tuple"
      ]
     },
     "execution_count": 1,
     "metadata": {},
     "output_type": "execute_result"
    }
   ],
   "source": [
    "name = ('junaid', 'kashif', 'ibrahim')\n",
    "type(name)"
   ]
  },
  {
   "cell_type": "code",
   "execution_count": 6,
   "metadata": {},
   "outputs": [
    {
     "name": "stdout",
     "output_type": "stream",
     "text": [
      "{'name': 'Junaid', 'fname': 'Qazi', 'course': 'AI'}\n"
     ]
    },
    {
     "data": {
      "text/plain": [
       "dict"
      ]
     },
     "execution_count": 6,
     "metadata": {},
     "output_type": "execute_result"
    }
   ],
   "source": [
    "data = {    \n",
    "    \"name\": 'Junaid',\n",
    "    \"fname\": 'Qazi',\n",
    "    \"course\": 'AI'\n",
    "}\n",
    "\n",
    "print(data)\n",
    "type(data)"
   ]
  },
  {
   "cell_type": "code",
   "execution_count": 7,
   "metadata": {},
   "outputs": [
    {
     "data": {
      "text/plain": [
       "['__class__',\n",
       " '__contains__',\n",
       " '__delattr__',\n",
       " '__delitem__',\n",
       " '__dir__',\n",
       " '__doc__',\n",
       " '__eq__',\n",
       " '__format__',\n",
       " '__ge__',\n",
       " '__getattribute__',\n",
       " '__getitem__',\n",
       " '__gt__',\n",
       " '__hash__',\n",
       " '__init__',\n",
       " '__init_subclass__',\n",
       " '__iter__',\n",
       " '__le__',\n",
       " '__len__',\n",
       " '__lt__',\n",
       " '__ne__',\n",
       " '__new__',\n",
       " '__reduce__',\n",
       " '__reduce_ex__',\n",
       " '__repr__',\n",
       " '__reversed__',\n",
       " '__setattr__',\n",
       " '__setitem__',\n",
       " '__sizeof__',\n",
       " '__str__',\n",
       " '__subclasshook__',\n",
       " 'clear',\n",
       " 'copy',\n",
       " 'fromkeys',\n",
       " 'get',\n",
       " 'items',\n",
       " 'keys',\n",
       " 'pop',\n",
       " 'popitem',\n",
       " 'setdefault',\n",
       " 'update',\n",
       " 'values']"
      ]
     },
     "execution_count": 7,
     "metadata": {},
     "output_type": "execute_result"
    }
   ],
   "source": [
    "dir(data)"
   ]
  },
  {
   "cell_type": "markdown",
   "metadata": {},
   "source": [
    "# list"
   ]
  },
  {
   "cell_type": "code",
   "execution_count": 4,
   "metadata": {},
   "outputs": [
    {
     "name": "stdout",
     "output_type": "stream",
     "text": [
      "kashif\n",
      "<class 'list'>\n"
     ]
    }
   ],
   "source": [
    "name = [\"asif\", \"junaid\", \"kashif\"] \n",
    "print(name[2])\n",
    "print(type(name))"
   ]
  },
  {
   "cell_type": "code",
   "execution_count": 3,
   "metadata": {},
   "outputs": [
    {
     "name": "stdout",
     "output_type": "stream",
     "text": [
      "<class 'tuple'>\n"
     ]
    }
   ],
   "source": [
    "name = ('asif', 'junaid', 'kashif')\n",
    "print(type(name))"
   ]
  },
  {
   "cell_type": "code",
   "execution_count": 7,
   "metadata": {},
   "outputs": [
    {
     "name": "stdout",
     "output_type": "stream",
     "text": [
      "<class 'set'>\n"
     ]
    }
   ],
   "source": [
    "name = {'asif', 'junaid', 'kashif'}\n",
    "print(type(name))"
   ]
  },
  {
   "cell_type": "code",
   "execution_count": 22,
   "metadata": {},
   "outputs": [
    {
     "name": "stdout",
     "output_type": "stream",
     "text": [
      "{'Name': 'Asif', 'Father Name': 'Qazi', 'Course Enrolled': 'Artificial Intelligence'}\n",
      "<class 'dict'>\n"
     ]
    }
   ],
   "source": [
    "name = {\n",
    "\n",
    "    'Name':\"Asif\",\n",
    "    'Father Name':'Qazi',\n",
    "    'Course Enrolled':'Artificial Intelligence'\n",
    "}\n",
    "\n",
    "print(name)\n",
    "print(type(name))"
   ]
  },
  {
   "cell_type": "code",
   "execution_count": 31,
   "metadata": {},
   "outputs": [
    {
     "name": "stdout",
     "output_type": "stream",
     "text": [
      "<class 'tuple'>\n"
     ]
    }
   ],
   "source": [
    "name = ([\"asif\", \"kashif\", \"junaid\"], 'sadia', 'owais')\n",
    "print(type(name))"
   ]
  },
  {
   "cell_type": "code",
   "execution_count": 25,
   "metadata": {},
   "outputs": [
    {
     "ename": "AttributeError",
     "evalue": "'tuple' object has no attribute 'append'",
     "output_type": "error",
     "traceback": [
      "\u001b[1;31m---------------------------------------------------------------------------\u001b[0m",
      "\u001b[1;31mAttributeError\u001b[0m                            Traceback (most recent call last)",
      "\u001b[1;32m<ipython-input-25-f902a4ea8b2e>\u001b[0m in \u001b[0;36m<module>\u001b[1;34m\u001b[0m\n\u001b[1;32m----> 1\u001b[1;33m \u001b[0mname\u001b[0m\u001b[1;33m.\u001b[0m\u001b[0mappend\u001b[0m\u001b[1;33m(\u001b[0m\u001b[1;34m\"armani\"\u001b[0m\u001b[1;33m)\u001b[0m\u001b[1;33m\u001b[0m\u001b[1;33m\u001b[0m\u001b[0m\n\u001b[0m",
      "\u001b[1;31mAttributeError\u001b[0m: 'tuple' object has no attribute 'append'"
     ]
    }
   ],
   "source": [
    "name.append(\"armani\")"
   ]
  },
  {
   "cell_type": "code",
   "execution_count": 27,
   "metadata": {},
   "outputs": [
    {
     "name": "stdout",
     "output_type": "stream",
     "text": [
      "sadia\n"
     ]
    }
   ],
   "source": [
    "print(name[1])"
   ]
  },
  {
   "cell_type": "code",
   "execution_count": 33,
   "metadata": {},
   "outputs": [
    {
     "name": "stdout",
     "output_type": "stream",
     "text": [
      "<class 'tuple'>\n"
     ]
    }
   ],
   "source": [
    "name = ([\"asif\", \"kashif\", \"junaid\"],)\n",
    "print(type(name))"
   ]
  },
  {
   "cell_type": "code",
   "execution_count": 35,
   "metadata": {},
   "outputs": [
    {
     "name": "stdout",
     "output_type": "stream",
     "text": [
      "(['asif', 'kashif', 'junaid', 'junaid'], 'sadia', 'owais', 'sadia')\n",
      "<class 'tuple'>\n"
     ]
    }
   ],
   "source": [
    "name = ([\"asif\", \"kashif\", \"junaid\", \"junaid\"], 'sadia', 'owais', 'sadia')\n",
    "print(name)\n",
    "print(type(name))"
   ]
  },
  {
   "cell_type": "code",
   "execution_count": 37,
   "metadata": {},
   "outputs": [
    {
     "name": "stdout",
     "output_type": "stream",
     "text": [
      "sadia\n"
     ]
    }
   ],
   "source": [
    "print(name[3])"
   ]
  },
  {
   "cell_type": "code",
   "execution_count": 38,
   "metadata": {},
   "outputs": [
    {
     "name": "stdout",
     "output_type": "stream",
     "text": [
      "<class 'set'>\n",
      "{'asif', 'kashif', 'commando', 'saleem'}\n"
     ]
    }
   ],
   "source": [
    "name = {'asif', 'kashif', 'saleem', 'commando', 'asif'}\n",
    "print(type(name))\n",
    "print(name)"
   ]
  },
  {
   "cell_type": "code",
   "execution_count": 39,
   "metadata": {},
   "outputs": [
    {
     "name": "stdout",
     "output_type": "stream",
     "text": [
      "{'asif', 'kashif', 'commando', 'saleem'}\n"
     ]
    }
   ],
   "source": [
    "print(name)"
   ]
  },
  {
   "cell_type": "code",
   "execution_count": 40,
   "metadata": {},
   "outputs": [
    {
     "name": "stdout",
     "output_type": "stream",
     "text": [
      "{'Name': 'Asif', 'Father Name': 'Qazi', 'Course Enrolled': 'Artificial Intelligence'}\n",
      "<class 'dict'>\n"
     ]
    }
   ],
   "source": [
    "name = {\n",
    "\n",
    "    'Name':\"Asif\",\n",
    "    'Father Name':'Qazi',\n",
    "    'Course Enrolled':'Artificial Intelligence'\n",
    "}\n",
    "\n",
    "print(name)\n",
    "print(type(name))"
   ]
  },
  {
   "cell_type": "code",
   "execution_count": 53,
   "metadata": {},
   "outputs": [
    {
     "name": "stdout",
     "output_type": "stream",
     "text": [
      "{'Name': 'Asif', 'Father Name': 'Qazi', 'Course Enrolled': 'Artificial Intelligence'}\n",
      "<class 'dict'>\n",
      "dict_keys(['Name', 'Father Name', 'Course Enrolled'])\n"
     ]
    }
   ],
   "source": [
    "name = {\n",
    "\n",
    "    'Name':\"Asif\",\n",
    "    'Father Name':'Qazi',\n",
    "    'Course Enrolled':'Artificial Intelligence'\n",
    "}\n",
    "\n",
    "print(name)\n",
    "print(type(name))\n",
    "print(name.keys())"
   ]
  },
  {
   "cell_type": "code",
   "execution_count": 42,
   "metadata": {},
   "outputs": [
    {
     "data": {
      "text/plain": [
       "'Asif'"
      ]
     },
     "execution_count": 42,
     "metadata": {},
     "output_type": "execute_result"
    }
   ],
   "source": [
    "name['Name']"
   ]
  },
  {
   "cell_type": "code",
   "execution_count": 47,
   "metadata": {},
   "outputs": [
    {
     "name": "stdout",
     "output_type": "stream",
     "text": [
      "kashif\n"
     ]
    }
   ],
   "source": [
    "name = [\"asif\", \"junaid\", \"kashif\"] \n",
    "print(name.pop())"
   ]
  },
  {
   "cell_type": "code",
   "execution_count": 48,
   "metadata": {},
   "outputs": [
    {
     "data": {
      "text/plain": [
       "['__add__',\n",
       " '__class__',\n",
       " '__contains__',\n",
       " '__delattr__',\n",
       " '__delitem__',\n",
       " '__dir__',\n",
       " '__doc__',\n",
       " '__eq__',\n",
       " '__format__',\n",
       " '__ge__',\n",
       " '__getattribute__',\n",
       " '__getitem__',\n",
       " '__gt__',\n",
       " '__hash__',\n",
       " '__iadd__',\n",
       " '__imul__',\n",
       " '__init__',\n",
       " '__init_subclass__',\n",
       " '__iter__',\n",
       " '__le__',\n",
       " '__len__',\n",
       " '__lt__',\n",
       " '__mul__',\n",
       " '__ne__',\n",
       " '__new__',\n",
       " '__reduce__',\n",
       " '__reduce_ex__',\n",
       " '__repr__',\n",
       " '__reversed__',\n",
       " '__rmul__',\n",
       " '__setattr__',\n",
       " '__setitem__',\n",
       " '__sizeof__',\n",
       " '__str__',\n",
       " '__subclasshook__',\n",
       " 'append',\n",
       " 'clear',\n",
       " 'copy',\n",
       " 'count',\n",
       " 'extend',\n",
       " 'index',\n",
       " 'insert',\n",
       " 'pop',\n",
       " 'remove',\n",
       " 'reverse',\n",
       " 'sort']"
      ]
     },
     "execution_count": 48,
     "metadata": {},
     "output_type": "execute_result"
    }
   ],
   "source": [
    "dir(name)"
   ]
  },
  {
   "cell_type": "code",
   "execution_count": 51,
   "metadata": {},
   "outputs": [
    {
     "name": "stdout",
     "output_type": "stream",
     "text": [
      "junaid\n"
     ]
    }
   ],
   "source": [
    "name = [\"asif\", \"junaid\", \"kashif\"] \n",
    "print(name.pop(1))"
   ]
  },
  {
   "cell_type": "code",
   "execution_count": 54,
   "metadata": {},
   "outputs": [
    {
     "name": "stdout",
     "output_type": "stream",
     "text": [
      "{'Name': 'Asif', 'Father Name': 'Qazi', 'Course Enrolled': 'Artificial Intelligence'}\n",
      "<class 'dict'>\n",
      "dict_keys(['Name', 'Father Name', 'Course Enrolled'])\n",
      "dict_values(['Asif', 'Qazi', 'Artificial Intelligence'])\n"
     ]
    }
   ],
   "source": [
    "name = {\n",
    "\n",
    "    'Name':\"Asif\",\n",
    "    'Father Name':'Qazi',\n",
    "    'Course Enrolled':'Artificial Intelligence'\n",
    "}\n",
    "\n",
    "print(name)\n",
    "print(type(name))\n",
    "print(name.keys())\n",
    "print(name.values())"
   ]
  },
  {
   "cell_type": "code",
   "execution_count": 55,
   "metadata": {},
   "outputs": [
    {
     "name": "stdout",
     "output_type": "stream",
     "text": [
      "dict_items([('Name', 'Asif'), ('Father Name', 'Qazi'), ('Course Enrolled', 'Artificial Intelligence')])\n"
     ]
    }
   ],
   "source": [
    "print(name.items())"
   ]
  },
  {
   "cell_type": "code",
   "execution_count": 56,
   "metadata": {},
   "outputs": [
    {
     "name": "stdout",
     "output_type": "stream",
     "text": [
      "{'Name': ('Kashif', 'Amir', 'Qasim'), 'Father Name': 'Qazi', 'Course Enrolled': 'Artificial Intelligence'}\n",
      "dict_keys(['Name', 'Father Name', 'Course Enrolled'])\n",
      "dict_values([('Kashif', 'Amir', 'Qasim'), 'Qazi', 'Artificial Intelligence'])\n"
     ]
    }
   ],
   "source": [
    "name = {\n",
    "\n",
    "    'Name':\"Asif\",\n",
    "    'Father Name':'Qazi',\n",
    "    'Course Enrolled':'Artificial Intelligence'\n",
    "}\n",
    "\n",
    "name[\"Name\"] = \"Kashif\", \"Amir\", \"Qasim\"\n",
    "print(name)\n",
    "print(name.keys())\n",
    "print(name.values())"
   ]
  },
  {
   "cell_type": "code",
   "execution_count": 1,
   "metadata": {},
   "outputs": [],
   "source": [
    "name = [\"junaid\", \"owais\", \"sadia\", \"qasim\", \"adnan\"]"
   ]
  },
  {
   "cell_type": "code",
   "execution_count": 2,
   "metadata": {},
   "outputs": [
    {
     "data": {
      "text/plain": [
       "['junaid', 'owais', 'sadia', 'qasim', 'adnan']"
      ]
     },
     "execution_count": 2,
     "metadata": {},
     "output_type": "execute_result"
    }
   ],
   "source": [
    "name"
   ]
  },
  {
   "cell_type": "code",
   "execution_count": 3,
   "metadata": {},
   "outputs": [
    {
     "data": {
      "text/plain": [
       "'a'"
      ]
     },
     "execution_count": 3,
     "metadata": {},
     "output_type": "execute_result"
    }
   ],
   "source": [
    "name[2][4]"
   ]
  },
  {
   "cell_type": "code",
   "execution_count": 4,
   "metadata": {},
   "outputs": [
    {
     "data": {
      "text/plain": [
       "'u'"
      ]
     },
     "execution_count": 4,
     "metadata": {},
     "output_type": "execute_result"
    }
   ],
   "source": [
    "name[0][1]"
   ]
  },
  {
   "cell_type": "code",
   "execution_count": 5,
   "metadata": {},
   "outputs": [
    {
     "name": "stdout",
     "output_type": "stream",
     "text": [
      "e\n"
     ]
    }
   ],
   "source": [
    "favorites = ['raindrops', 'roses', 'whiskers', 'snowflakes']\n",
    "\n",
    "print(favorites[-2][-3])"
   ]
  },
  {
   "cell_type": "code",
   "execution_count": 7,
   "metadata": {},
   "outputs": [
    {
     "name": "stdout",
     "output_type": "stream",
     "text": [
      "['owais', 'asif', 'kashif', 'sadia', 'sonia', 'sara']\n"
     ]
    }
   ],
   "source": [
    "name1 = ['owais', 'asif', 'kashif']\n",
    "name2 = ['sadia', 'sonia', 'sara']\n",
    "new = name1 + name2\n",
    "print(new)"
   ]
  },
  {
   "cell_type": "code",
   "execution_count": null,
   "metadata": {},
   "outputs": [],
   "source": []
  }
 ],
 "metadata": {
  "kernelspec": {
   "display_name": "Python 3",
   "language": "python",
   "name": "python3"
  },
  "language_info": {
   "codemirror_mode": {
    "name": "ipython",
    "version": 3
   },
   "file_extension": ".py",
   "mimetype": "text/x-python",
   "name": "python",
   "nbconvert_exporter": "python",
   "pygments_lexer": "ipython3",
   "version": "3.8.3"
  }
 },
 "nbformat": 4,
 "nbformat_minor": 4
}
