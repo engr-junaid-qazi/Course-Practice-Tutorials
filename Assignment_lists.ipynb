{
 "cells": [
  {
   "cell_type": "markdown",
   "id": "c99b6796",
   "metadata": {},
   "source": [
    "### Table of contents"
   ]
  },
  {
   "cell_type": "markdown",
   "id": "31e3bf49",
   "metadata": {},
   "source": [
    "**Exercise 1:** Reverse a list in Python\n",
    "\n",
    "**Exercise 2:** Concatenate two lists index-wise\n",
    "\n",
    "**Exercise 3:** Turn every item of a list into its square\n",
    "\n",
    "**Exercise 4:** Concatenate two lists in the following order\n",
    "\n",
    "**Exercise 5:** Iterate both lists simultaneously\n",
    "\n",
    "**Exercise 6:** Remove empty strings from the list of strings\n",
    "\n",
    "**Exercise 7:** Add new item to list after a specified item\n",
    "\n",
    "**Exercise 8:** Extend nested list by adding the sublist\n",
    "\n",
    "**Exercise 9:** Replace list’s item with new value if found\n",
    "\n",
    "**Exercise 10:** Remove all occurrences of a specific item from a list."
   ]
  },
  {
   "cell_type": "markdown",
   "id": "bd1b1508",
   "metadata": {},
   "source": [
    "#### Exercise 1: Reverse a list in Python \n",
    "\n",
    "**Given:**\n",
    "\n",
    "list1 = [100, 200, 300, 400, 500]\n",
    "\n",
    "**Expected output:**\n",
    "\n",
    "[500, 400, 300, 200, 100]"
   ]
  },
  {
   "cell_type": "markdown",
   "id": "adb5b0df",
   "metadata": {},
   "source": [
    "##### Method # 1"
   ]
  },
  {
   "cell_type": "code",
   "execution_count": 30,
   "id": "32df0972",
   "metadata": {},
   "outputs": [
    {
     "name": "stdout",
     "output_type": "stream",
     "text": [
      "[500, 400, 300, 200, 100]\n"
     ]
    }
   ],
   "source": [
    "list1 = [100, 200, 300, 400, 500]\n",
    "\n",
    "reverse = list1[::-1]\n",
    "print(reverse)"
   ]
  },
  {
   "cell_type": "markdown",
   "id": "4629687f",
   "metadata": {},
   "source": [
    "##### Method # 2"
   ]
  },
  {
   "cell_type": "code",
   "execution_count": 39,
   "id": "0ea180ad",
   "metadata": {},
   "outputs": [
    {
     "name": "stdout",
     "output_type": "stream",
     "text": [
      "[500, 400, 300, 200, 100]\n"
     ]
    }
   ],
   "source": [
    "list1 = [100, 200, 300, 400, 500]\n",
    "list1.reverse() \n",
    "print(list1)"
   ]
  },
  {
   "cell_type": "markdown",
   "id": "b4ab5653",
   "metadata": {},
   "source": [
    "#### Exercise 2: Concatenate two lists index-wise\n",
    "\n",
    "Write a program to add two lists index-wise. Create a new list that contains the 0th index item from both the list, \n",
    "then the 1st index item, and so on till the last element. any leftover items will get added at the end of the new list. \n",
    "\n",
    "**Given:**\n",
    "\n",
    "list1 = [\"M\", \"na\", \"i\", \"Ke\"]\n",
    "\n",
    "list2 = [\"y\", \"me\", \"s\", \"lly\"]\n",
    "\n",
    "**Expected output:**\n",
    "\n",
    "['My', 'name', 'is', 'Kelly']\n"
   ]
  },
  {
   "cell_type": "markdown",
   "id": "460d7583",
   "metadata": {},
   "source": [
    "##### Using List Comprehension & Zip()"
   ]
  },
  {
   "cell_type": "code",
   "execution_count": 47,
   "id": "ae506329",
   "metadata": {},
   "outputs": [
    {
     "name": "stdout",
     "output_type": "stream",
     "text": [
      "['My', 'name', 'is', 'Kelly']\n"
     ]
    }
   ],
   "source": [
    "list1 = [\"M\", \"na\", \"i\", \"Ke\"]\n",
    "list2 = [\"y\", \"me\", \"s\", \"lly\"] \n",
    "newlist = [i+j for i,j in zip(list1, list2)]\n",
    "print(newlist)"
   ]
  },
  {
   "cell_type": "markdown",
   "id": "934e48b2",
   "metadata": {},
   "source": [
    "**Exercise 3:** Turn every item of a list into its square \n",
    "\n",
    "Given a list of numbers. write a program to turn every item of a list into its square.\n",
    "\n",
    "**Given:**\n",
    "\n",
    "numbers = [1, 2, 3, 4, 5, 6, 7]\n",
    "\n",
    "**Expected output:**\n",
    "\n",
    "[1, 4, 9, 16, 25, 36, 49]"
   ]
  },
  {
   "cell_type": "markdown",
   "id": "b6478c36",
   "metadata": {},
   "source": [
    "##### Method # 1"
   ]
  },
  {
   "cell_type": "code",
   "execution_count": 55,
   "id": "2f5c0c28",
   "metadata": {},
   "outputs": [
    {
     "name": "stdout",
     "output_type": "stream",
     "text": [
      "[1, 4, 9, 16, 25, 36, 49]\n"
     ]
    }
   ],
   "source": [
    "numbers = [1, 2, 3, 4, 5, 6, 7]\n",
    "\n",
    "newlist = [num*num for num in range(1,8)]\n",
    "print(newlist)"
   ]
  },
  {
   "cell_type": "markdown",
   "id": "c3346e7a",
   "metadata": {},
   "source": [
    "##### Method # 2 \n",
    "\n",
    "**Using loop and list method**\n",
    "\n",
    "* Create an empty result list\n",
    "* Iterate a numbers list using a loop\n",
    "* In each iteration, calculate the square of a current number and add it to the result list using the append() method.\n"
   ]
  },
  {
   "cell_type": "code",
   "execution_count": 1,
   "id": "8a00fe4e",
   "metadata": {},
   "outputs": [
    {
     "name": "stdout",
     "output_type": "stream",
     "text": [
      "[1, 4, 9, 16, 25, 36, 49]\n"
     ]
    }
   ],
   "source": [
    "numbers = [1, 2, 3, 4, 5, 6, 7]\n",
    "\n",
    "newlist = []\n",
    "\n",
    "for x in numbers: \n",
    "    newlist.append(x*x)\n",
    "print(newlist)"
   ]
  },
  {
   "cell_type": "markdown",
   "id": "3a0055ad",
   "metadata": {},
   "source": [
    "##### Method # 3\n",
    "\n",
    "**Use list comprehension**"
   ]
  },
  {
   "cell_type": "code",
   "execution_count": 4,
   "id": "7f3ca744",
   "metadata": {},
   "outputs": [
    {
     "name": "stdout",
     "output_type": "stream",
     "text": [
      "[1, 4, 9, 16, 25, 36, 49]\n"
     ]
    }
   ],
   "source": [
    "numbers = [1, 2, 3, 4, 5, 6, 7] \n",
    "\n",
    "newlist = [x*x for x in numbers]\n",
    "print(newlist)"
   ]
  },
  {
   "cell_type": "markdown",
   "id": "16072ea4",
   "metadata": {},
   "source": [
    "#### Exercise 4: Concatenate two lists in the following order \n",
    "\n",
    "**Given:**\n",
    "\n",
    "list1 = [\"Hello \", \"take \"]\n",
    "\n",
    "list2 = [\"Dear\", \"Sir\"]\n",
    "\n",
    "**Expected output:**\n",
    "\n",
    "['Hello Dear', 'Hello Sir', 'take Dear', 'take Sir']\n",
    "\n",
    "**Hint:** \n",
    "\n",
    "* Use a list comprehension to iterate two lists using a for loop and concatenate the current item of each list."
   ]
  },
  {
   "cell_type": "code",
   "execution_count": 11,
   "id": "747b068f",
   "metadata": {},
   "outputs": [
    {
     "name": "stdout",
     "output_type": "stream",
     "text": [
      "['Hello Dear', 'Hello Sir', 'Take Dear', 'Take Sir']\n"
     ]
    }
   ],
   "source": [
    "list1 = [\"Hello \", \"Take \"]\n",
    "list2 = [\"Dear\", \"Sir\"]\n",
    "\n",
    "list3 = [i + j for i in list1 for j in list2]\n",
    "print(list3)"
   ]
  },
  {
   "cell_type": "markdown",
   "id": "81dcd739",
   "metadata": {},
   "source": [
    "#### Exercise 5: Iterate both lists simultaneously \n",
    "\n",
    "Given a two Python list. Write a program to iterate both lists simultaneously and display items from list1 in original order and items from list2 in reverse order.\n",
    "\n",
    "**Given:**\n",
    "\n",
    "list1 = [10, 20, 30, 40]\n",
    "\n",
    "list2 = [100, 200, 300, 400]\n",
    "\n",
    "**Expected output:**\n",
    "\n",
    "10 400 \n",
    "\n",
    "20 300 \n",
    "\n",
    "30 200 \n",
    "\n",
    "40 100\n",
    "\n",
    "**Hint:** \n",
    "\n",
    "Use the zip() function. This function takes two or more iterables (like list, dict, string), aggregates them in a tuple, and returns it."
   ]
  },
  {
   "cell_type": "markdown",
   "id": "50e6e2c8",
   "metadata": {},
   "source": [
    "The zip() function can take two or more lists, aggregate them in a tuple, and returns it.\n",
    "Pass the first argument as a list1 and seconds argument as a list2[::-1] (reverse list using list slicing)\n",
    "Iterate the result using a for loop"
   ]
  },
  {
   "cell_type": "code",
   "execution_count": 34,
   "id": "8c960183",
   "metadata": {},
   "outputs": [
    {
     "name": "stdout",
     "output_type": "stream",
     "text": [
      "10 400\n",
      "20 300\n",
      "30 200\n",
      "40 100\n"
     ]
    }
   ],
   "source": [
    "list1 = [10, 20, 30, 40]\n",
    "list2 = [100, 200, 300, 400]\n",
    "for i,j in zip(list1, list2[::-1]):\n",
    "    print(i,j)"
   ]
  },
  {
   "cell_type": "markdown",
   "id": "f2590503",
   "metadata": {},
   "source": [
    "#### **Exercise 6:** Remove empty strings from the list of strings \n",
    "\n",
    "**Given:** \n",
    "\n",
    "list1 = [\"Mike\", \"\", \"Emma\", \"Kelly\", \"\", \"Brad\"]\n",
    "\n",
    "**Expected Output:** \n",
    "\n",
    "[\"Mike\", \"Emma\", \"Kelly\", \"Brad\"]\n",
    "\n",
    "**Hint:** \n",
    "\n",
    "Use a filter() function to remove the None / empty type from the list"
   ]
  },
  {
   "cell_type": "markdown",
   "id": "a3fcbaa6",
   "metadata": {},
   "source": [
    "Use a filter() function to remove None type from the list "
   ]
  },
  {
   "cell_type": "code",
   "execution_count": 41,
   "id": "d58c40d6",
   "metadata": {},
   "outputs": [
    {
     "name": "stdout",
     "output_type": "stream",
     "text": [
      "['Mike', 'Emma', 'Kelly', 'Brad']\n"
     ]
    }
   ],
   "source": [
    "list1 = [\"Mike\", \"\", \"Emma\", \"Kelly\", \"\", \"Brad\"]\n",
    "# remove None from list1 and convert result into list\n",
    "newlist = list(filter(None, list1))\n",
    "print(newlist)"
   ]
  }
 ],
 "metadata": {
  "kernelspec": {
   "display_name": "Python 3 (ipykernel)",
   "language": "python",
   "name": "python3"
  },
  "language_info": {
   "codemirror_mode": {
    "name": "ipython",
    "version": 3
   },
   "file_extension": ".py",
   "mimetype": "text/x-python",
   "name": "python",
   "nbconvert_exporter": "python",
   "pygments_lexer": "ipython3",
   "version": "3.9.12"
  }
 },
 "nbformat": 4,
 "nbformat_minor": 5
}
