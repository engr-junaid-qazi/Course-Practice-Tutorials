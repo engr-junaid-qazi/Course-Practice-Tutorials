{
 "cells": [
  {
   "cell_type": "code",
   "execution_count": 22,
   "metadata": {},
   "outputs": [
    {
     "name": "stdout",
     "output_type": "stream",
     "text": [
      "\n",
      "\n",
      "*** 100 Days Coding Challange ***\n",
      "Name: Junaid \n",
      "Roll No.: 126 \n",
      "University: DUET\n",
      "Department: Electronics\n"
     ]
    }
   ],
   "source": [
    "admit_card= \"\"\"\n",
    "\n",
    "*** 100 Days Coding Challange ***\n",
    "Name: Junaid \n",
    "Roll No.: 126 \n",
    "University: DUET\n",
    "Department: Electronics\"\"\"\n",
    "print(admit_card)"
   ]
  },
  {
   "cell_type": "code",
   "execution_count": 21,
   "metadata": {},
   "outputs": [
    {
     "name": "stdout",
     "output_type": "stream",
     "text": [
      "\n",
      "\n",
      "100 days code challange \n",
      "\n",
      "Name: {name} \n",
      "Unviersity: {university}\n",
      "Department: {depart}\n",
      "Reg No.: {reg_no}\n"
     ]
    }
   ],
   "source": [
    "name = \"Junaid Qazi\"\n",
    "university = \"Dawood University\" \n",
    "depart = \"Electronics\" \n",
    "reg_no = 56789 \n",
    "\n",
    "admit_card=\"\"\"\n",
    "\n",
    "100 days code challange \n",
    "\n",
    "Name: {name} \n",
    "Unviersity: {university}\n",
    "Department: {depart}\n",
    "Reg No.: {reg_no}\"\"\" \n",
    "\n",
    "\n",
    "print(admit_card)"
   ]
  },
  {
   "cell_type": "code",
   "execution_count": 3,
   "metadata": {},
   "outputs": [
    {
     "name": "stdout",
     "output_type": "stream",
     "text": [
      "\n",
      "**** 100 days code challange ****\n",
      "\n",
      "Name: Junaid Qazi \n",
      "Unviersity: Dawood University\n",
      "Department: Electronics\n",
      "Reg No.: 56789\n"
     ]
    }
   ],
   "source": [
    "name = \"Junaid Qazi\"\n",
    "university = \"Dawood University\" \n",
    "depart = \"Electronics\" \n",
    "reg_no = 56789 \n",
    "\n",
    "admit_card=f\"\"\"\n",
    "**** 100 days code challange ****\n",
    "\n",
    "Name: {name} \n",
    "Unviersity: {university}\n",
    "Department: {depart}\n",
    "Reg No.: {reg_no}\"\"\" \n",
    "\n",
    "\n",
    "print(admit_card)"
   ]
  },
  {
   "cell_type": "code",
   "execution_count": 5,
   "metadata": {},
   "outputs": [
    {
     "name": "stdout",
     "output_type": "stream",
     "text": [
      "\n",
      "\n",
      "100 days code challange \n",
      "\n",
      "Name: Junaid Qazi \n",
      "Unviersity: Dawood University\n",
      "Department: Electronics\n",
      "Reg No.: 56789\n"
     ]
    }
   ],
   "source": [
    "name = \"Junaid Qazi\"\n",
    "university = \"Dawood University\" \n",
    "depart = \"Electronics\" \n",
    "reg_no = 56789 \n",
    "\n",
    "admit_card=\"\"\"\n",
    "\n",
    "100 days code challange \n",
    "\n",
    "Name of Student: {0} \n",
    "Unviersity Name: {1}\n",
    "Department Name: {2}\n",
    "Student's Reg No.: {3}\"\"\" .format(name, university, depart, reg_no)\n",
    "\n",
    "\n",
    "print(admit_card)"
   ]
  },
  {
   "cell_type": "code",
   "execution_count": 9,
   "metadata": {},
   "outputs": [
    {
     "name": "stdout",
     "output_type": "stream",
     "text": [
      "5\n"
     ]
    }
   ],
   "source": [
    "A=5\n",
    "print(A)"
   ]
  },
  {
   "cell_type": "code",
   "execution_count": 12,
   "metadata": {},
   "outputs": [
    {
     "name": "stdout",
     "output_type": "stream",
     "text": [
      "5\n",
      "11\n",
      "15\n",
      "<class 'int'>\n"
     ]
    }
   ],
   "source": [
    "a=5\n",
    "print(a)\n",
    "a=a+6\n",
    "print(a)\n",
    "a+=4\n",
    "print(a) \n",
    "print(type(a))"
   ]
  },
  {
   "cell_type": "code",
   "execution_count": 17,
   "metadata": {},
   "outputs": [
    {
     "data": {
      "text/plain": [
       "'Total Marks Obtained:315'"
      ]
     },
     "execution_count": 17,
     "metadata": {},
     "output_type": "execute_result"
    }
   ],
   "source": [
    "eng = 75 \n",
    "urdu = 65\n",
    "math = 95 \n",
    "sci = 80 \n",
    "\n",
    "\"Total Marks Obtained:\" +str(eng+urdu+math+sci)"
   ]
  },
  {
   "cell_type": "code",
   "execution_count": 1,
   "metadata": {},
   "outputs": [
    {
     "name": "stdout",
     "output_type": "stream",
     "text": [
      "\n",
      "\n",
      "100 days code challange \n",
      "\n",
      "Name of Student: Junaid Qazi \n",
      "Unviersity Name: Dawood University\n",
      "Department Name: Electronics\n",
      "Student's Reg No.: 56789\n"
     ]
    }
   ],
   "source": [
    "name = \"Junaid Qazi\"\n",
    "university = \"Dawood University\" \n",
    "depart = \"Electronics\" \n",
    "reg_no = 56789 \n",
    "\n",
    "admit_card=\"\"\"\n",
    "\n",
    "100 days code challange \n",
    "\n",
    "Name of Student: {0} \n",
    "Unviersity Name: {1}\n",
    "Department Name: {2}\n",
    "Student's Reg No.: {3}\"\"\" .format(name, university, depart, reg_no)\n",
    "\n",
    "\n",
    "print(admit_card)"
   ]
  },
  {
   "cell_type": "code",
   "execution_count": null,
   "metadata": {},
   "outputs": [],
   "source": []
  }
 ],
 "metadata": {
  "kernelspec": {
   "display_name": "Python 3",
   "language": "python",
   "name": "python3"
  },
  "language_info": {
   "codemirror_mode": {
    "name": "ipython",
    "version": 3
   },
   "file_extension": ".py",
   "mimetype": "text/x-python",
   "name": "python",
   "nbconvert_exporter": "python",
   "pygments_lexer": "ipython3",
   "version": "3.8.3"
  }
 },
 "nbformat": 4,
 "nbformat_minor": 4
}
