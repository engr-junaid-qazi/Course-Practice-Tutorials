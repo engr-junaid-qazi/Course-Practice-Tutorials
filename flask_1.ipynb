{
 "cells": [
  {
   "cell_type": "markdown",
   "id": "f963489c",
   "metadata": {},
   "source": [
    "# What is Flask?\n",
    "Flask is an API of Python that allows us to build up web-applications. It was developed by Armin Ronacher. Flask’s framework is more explicit than Django’s framework and is also easier to learn because it has less base code to implement a simple web-Application. A Web-Application Framework or Web Framework is the collection of modules and libraries that helps the developer to write applications without writing the low-level codes such as protocols, thread management, etc. Flask is based on WSGI(Web Server Gateway Interface) toolkit and Jinja2 template engine.\n",
    "\n"
   ]
  },
  {
   "cell_type": "markdown",
   "id": "5179106f",
   "metadata": {},
   "source": [
    "To test that if the installation is working, check out this code given below."
   ]
  },
  {
   "cell_type": "code",
   "execution_count": null,
   "id": "860cbbd4",
   "metadata": {},
   "outputs": [
    {
     "name": "stdout",
     "output_type": "stream",
     "text": [
      " * Serving Flask app \"__main__\" (lazy loading)\n",
      " * Environment: production\n",
      "\u001b[31m   WARNING: This is a development server. Do not use it in a production deployment.\u001b[0m\n",
      "\u001b[2m   Use a production WSGI server instead.\u001b[0m\n",
      " * Debug mode: off\n"
     ]
    },
    {
     "name": "stderr",
     "output_type": "stream",
     "text": [
      " * Running on http://127.0.0.1:5000/ (Press CTRL+C to quit)\n",
      "127.0.0.1 - - [26/Sep/2022 09:53:04] \"GET /hello HTTP/1.1\" 404 -\n",
      "127.0.0.1 - - [26/Sep/2022 09:53:06] \"GET /hello HTTP/1.1\" 404 -\n"
     ]
    }
   ],
   "source": [
    "# an object of WSGI application\n",
    "from flask import Flask    \n",
    "app = Flask(__name__)   # Flask constructor\n",
    "  \n",
    "# A decorator used to tell the application\n",
    "# which URL is associated function\n",
    "@app.route('/')      \n",
    "def hello():\n",
    "    return 'HELLO'\n",
    "  \n",
    "if __name__=='__main__':\n",
    "   app.run()"
   ]
  },
  {
   "cell_type": "markdown",
   "id": "5359825a",
   "metadata": {},
   "source": [
    "# Routing:\n",
    "Nowadays, the web frameworks provide routing technique so that user can remember the URLs. It is useful to access the web page directly without navigating from the Home page. It is done through the following route() decorator, to bind the URL to a function."
   ]
  },
  {
   "cell_type": "code",
   "execution_count": null,
   "id": "b0b2b597",
   "metadata": {},
   "outputs": [],
   "source": [
    "# decorator to route URL\n",
    "@app.route(‘/hello’)  \n",
    "  \n",
    "# binding to the function of route \n",
    "def hello_world():     \n",
    "   return ‘hello world’"
   ]
  },
  {
   "cell_type": "code",
   "execution_count": null,
   "id": "8bb2d6c2",
   "metadata": {},
   "outputs": [
    {
     "name": "stdout",
     "output_type": "stream",
     "text": [
      " * Serving Flask app \"__main__\" (lazy loading)\n",
      " * Environment: production\n",
      "\u001b[31m   WARNING: This is a development server. Do not use it in a production deployment.\u001b[0m\n",
      "\u001b[2m   Use a production WSGI server instead.\u001b[0m\n",
      " * Debug mode: off\n"
     ]
    },
    {
     "name": "stderr",
     "output_type": "stream",
     "text": [
      " * Running on http://127.0.0.1:5000/ (Press CTRL+C to quit)\n",
      "127.0.0.1 - - [26/Sep/2022 09:52:38] \"GET /hello HTTP/1.1\" 404 -\n"
     ]
    }
   ],
   "source": [
    "# an object of WSGI application\n",
    "from flask import Flask    \n",
    "app = Flask(__name__)   # Flask constructor\n",
    "  \n",
    "# A decorator used to tell the application\n",
    "# which URL is associated function\n",
    "@app.route('/')      \n",
    "def hello():\n",
    "    return 'HELLO'\n",
    "  \n",
    "if __name__=='__main__':\n",
    "   app.run()\n",
    "\n",
    "# decorator to route URL\n",
    "@app.route('/hello') \n",
    "  \n",
    "# binding to the function of route \n",
    "def hello_world():     \n",
    "   return 'hello world'"
   ]
  },
  {
   "cell_type": "code",
   "execution_count": 2,
   "id": "03d8c90a",
   "metadata": {},
   "outputs": [
    {
     "name": "stdout",
     "output_type": "stream",
     "text": [
      " * Serving Flask app \"__main__\" (lazy loading)\n",
      " * Environment: production\n",
      "\u001b[31m   WARNING: This is a development server. Do not use it in a production deployment.\u001b[0m\n",
      "\u001b[2m   Use a production WSGI server instead.\u001b[0m\n",
      " * Debug mode: on\n"
     ]
    },
    {
     "name": "stderr",
     "output_type": "stream",
     "text": [
      " * Restarting with watchdog (windowsapi)\n"
     ]
    },
    {
     "ename": "SystemExit",
     "evalue": "1",
     "output_type": "error",
     "traceback": [
      "An exception has occurred, use %tb to see the full traceback.\n",
      "\u001b[1;31mSystemExit\u001b[0m\u001b[1;31m:\u001b[0m 1\n"
     ]
    }
   ],
   "source": [
    "from flask import Flask \n",
    "\n",
    "app = Flask(__name__)\n",
    "\n",
    "@app.route(\"/\")\n",
    "def index():\n",
    "    return(\"Hello World!\")\n",
    "\n",
    "app.run(debug=True)"
   ]
  },
  {
   "cell_type": "code",
   "execution_count": 1,
   "id": "59ac3d28",
   "metadata": {},
   "outputs": [
    {
     "name": "stdout",
     "output_type": "stream",
     "text": [
      " * Serving Flask app \"__main__\" (lazy loading)\n",
      " * Environment: production\n",
      "\u001b[31m   WARNING: This is a development server. Do not use it in a production deployment.\u001b[0m\n",
      "\u001b[2m   Use a production WSGI server instead.\u001b[0m\n",
      " * Debug mode: on\n"
     ]
    },
    {
     "name": "stderr",
     "output_type": "stream",
     "text": [
      " * Restarting with watchdog (windowsapi)\n"
     ]
    },
    {
     "ename": "SystemExit",
     "evalue": "1",
     "output_type": "error",
     "traceback": [
      "An exception has occurred, use %tb to see the full traceback.\n",
      "\u001b[1;31mSystemExit\u001b[0m\u001b[1;31m:\u001b[0m 1\n"
     ]
    },
    {
     "name": "stderr",
     "output_type": "stream",
     "text": [
      "C:\\Users\\HP\\anaconda3\\lib\\site-packages\\IPython\\core\\interactiveshell.py:3377: UserWarning: To exit: use 'exit', 'quit', or Ctrl-D.\n",
      "  warn(\"To exit: use 'exit', 'quit', or Ctrl-D.\", stacklevel=1)\n"
     ]
    }
   ],
   "source": [
    "from flask import Flask\n",
    "\n",
    "app = Flask(__name__)\n",
    "\n",
    "@app.route(\"/\")\n",
    "def index():\n",
    "    return \"Hello World \\\n",
    "    Pakistan zinda bad \\\n",
    "    we are pakistani \\\n",
    "    <h1>Saylani Students code</h1>\\\n",
    "    \"\n",
    "@app.route(\"/about\")\n",
    "def about():\n",
    "    return '''\n",
    "    <h1>About Page</h1>\n",
    "    Hello World \n",
    "    Pakistan zinda bad \n",
    "    we are pakistani \n",
    "    <h1>Saylani Students code</h1>\n",
    "    '''\n",
    "\n",
    "app.run(debug=True)"
   ]
  },
  {
   "cell_type": "code",
   "execution_count": null,
   "id": "fe9dc57b",
   "metadata": {},
   "outputs": [],
   "source": []
  }
 ],
 "metadata": {
  "kernelspec": {
   "display_name": "Python 3 (ipykernel)",
   "language": "python",
   "name": "python3"
  },
  "language_info": {
   "codemirror_mode": {
    "name": "ipython",
    "version": 3
   },
   "file_extension": ".py",
   "mimetype": "text/x-python",
   "name": "python",
   "nbconvert_exporter": "python",
   "pygments_lexer": "ipython3",
   "version": "3.9.12"
  }
 },
 "nbformat": 4,
 "nbformat_minor": 5
}
